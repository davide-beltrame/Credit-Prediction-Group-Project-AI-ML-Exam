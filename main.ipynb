{
 "cells": [
  {
   "cell_type": "markdown",
   "id": "0b2ea8d5",
   "metadata": {},
   "source": [
    "# Group Project - Artificial Intelligence and Machine Learning\n",
    "### Group Members:\n",
    "- Davide Beltrame\n",
    "- Demetrio Francesco Cardile\n",
    "- Mariasole Mohn\n",
    "\n",
    "### Brief introduction on the task\n",
    "The greatest financial company in the world has collected bank details and credit-related information from all over the globe. Your task is to design a data-driven solution to reduce the manual burden and divide the user into three credit score brackets: Poor, Standard and Good.\n",
    "\n",
    "## 1) Exploratory Data Analysis\n",
    "In this script, we will guide you through a deep analysis of the dataset, thus highlighting some interesting features regarding its variables, trying to extrapolate as much information as possible from data."
   ]
  },
  {
   "cell_type": "markdown",
   "id": "509665aa",
   "metadata": {},
   "source": [
    "### 1.0 Importing libraries"
   ]
  },
  {
   "cell_type": "code",
   "execution_count": 457,
   "id": "18b84a7d",
   "metadata": {},
   "outputs": [],
   "source": [
    "import numpy as np\n",
    "import pandas as pd\n",
    "import matplotlib.pyplot as plt\n",
    "import seaborn as sns"
   ]
  },
  {
   "cell_type": "markdown",
   "id": "0d0c76b7",
   "metadata": {},
   "source": [
    "### 1.1 Importing the dataset\n",
    "Since given as a \".csv\" file, we will use the built-in pandas function to read the dataset."
   ]
  },
  {
   "cell_type": "code",
   "execution_count": 458,
   "id": "fce09dd9",
   "metadata": {},
   "outputs": [],
   "source": [
    "data_df = pd.read_csv(\"credit_prediction.csv\")"
   ]
  },
  {
   "cell_type": "markdown",
   "id": "1762f5c3",
   "metadata": {},
   "source": [
    "### 1.2 Showing the dimension of the dataset"
   ]
  },
  {
   "cell_type": "code",
   "execution_count": 459,
   "id": "065ab050",
   "metadata": {},
   "outputs": [
    {
     "data": {
      "text/plain": [
       "(100000, 23)"
      ]
     },
     "execution_count": 459,
     "metadata": {},
     "output_type": "execute_result"
    }
   ],
   "source": [
    "data_df.shape"
   ]
  },
  {
   "cell_type": "markdown",
   "id": "42915b69",
   "metadata": {},
   "source": [
    "Notice that the dataset has 100000 observations (rows), and 23 variables (columns)."
   ]
  },
  {
   "cell_type": "markdown",
   "id": "365c1fe2",
   "metadata": {},
   "source": [
    "### 1.3 General overview of the dataset\n",
    "Using the function \".head()\" we extract the first 5 columns (by default) of the dataset. They're not useful for analytic purposes, but still enable us to visualize the dataset."
   ]
  },
  {
   "cell_type": "code",
   "execution_count": 460,
   "id": "0611ce0f",
   "metadata": {},
   "outputs": [
    {
     "data": {
      "text/html": [
       "<div>\n",
       "<style scoped>\n",
       "    .dataframe tbody tr th:only-of-type {\n",
       "        vertical-align: middle;\n",
       "    }\n",
       "\n",
       "    .dataframe tbody tr th {\n",
       "        vertical-align: top;\n",
       "    }\n",
       "\n",
       "    .dataframe thead th {\n",
       "        text-align: right;\n",
       "    }\n",
       "</style>\n",
       "<table border=\"1\" class=\"dataframe\">\n",
       "  <thead>\n",
       "    <tr style=\"text-align: right;\">\n",
       "      <th></th>\n",
       "      <th>id</th>\n",
       "      <th>Age</th>\n",
       "      <th>Occupation</th>\n",
       "      <th>Annual_Income</th>\n",
       "      <th>Monthly_Inhand_Salary</th>\n",
       "      <th>Num_Bank_Accounts</th>\n",
       "      <th>Num_Credit_Card</th>\n",
       "      <th>Interest_Rate</th>\n",
       "      <th>Num_of_Loan</th>\n",
       "      <th>Type_of_Loan</th>\n",
       "      <th>...</th>\n",
       "      <th>Num_Credit_Inquiries</th>\n",
       "      <th>Credit_Mix</th>\n",
       "      <th>Outstanding_Debt</th>\n",
       "      <th>Credit_Utilization_Ratio</th>\n",
       "      <th>Credit_History_Age</th>\n",
       "      <th>Payment_of_Min_Amount</th>\n",
       "      <th>Amount_invested_monthly</th>\n",
       "      <th>Payment_Behaviour</th>\n",
       "      <th>Monthly_Balance</th>\n",
       "      <th>Credit_Score</th>\n",
       "    </tr>\n",
       "  </thead>\n",
       "  <tbody>\n",
       "    <tr>\n",
       "      <th>0</th>\n",
       "      <td>0</td>\n",
       "      <td>23.0</td>\n",
       "      <td>Scientist</td>\n",
       "      <td>19114.12</td>\n",
       "      <td>1824.843333</td>\n",
       "      <td>3.0</td>\n",
       "      <td>4.0</td>\n",
       "      <td>3.0</td>\n",
       "      <td>4.0</td>\n",
       "      <td>Auto Loan, Credit-Builder Loan, Personal Loan,...</td>\n",
       "      <td>...</td>\n",
       "      <td>4.0</td>\n",
       "      <td>Good</td>\n",
       "      <td>809.98</td>\n",
       "      <td>26.822620</td>\n",
       "      <td>265.0</td>\n",
       "      <td>No</td>\n",
       "      <td>80.415295</td>\n",
       "      <td>NaN</td>\n",
       "      <td>312.494089</td>\n",
       "      <td>Good</td>\n",
       "    </tr>\n",
       "    <tr>\n",
       "      <th>1</th>\n",
       "      <td>1</td>\n",
       "      <td>23.0</td>\n",
       "      <td>Scientist</td>\n",
       "      <td>NaN</td>\n",
       "      <td>1824.843333</td>\n",
       "      <td>3.0</td>\n",
       "      <td>4.0</td>\n",
       "      <td>3.0</td>\n",
       "      <td>4.0</td>\n",
       "      <td>Auto Loan, Credit-Builder Loan, Personal Loan,...</td>\n",
       "      <td>...</td>\n",
       "      <td>4.0</td>\n",
       "      <td>Good</td>\n",
       "      <td>809.98</td>\n",
       "      <td>NaN</td>\n",
       "      <td>266.0</td>\n",
       "      <td>No</td>\n",
       "      <td>118.280222</td>\n",
       "      <td>Low_spent_Large_value_payments</td>\n",
       "      <td>284.629162</td>\n",
       "      <td>Good</td>\n",
       "    </tr>\n",
       "    <tr>\n",
       "      <th>2</th>\n",
       "      <td>2</td>\n",
       "      <td>23.0</td>\n",
       "      <td>Scientist</td>\n",
       "      <td>19114.12</td>\n",
       "      <td>1824.843333</td>\n",
       "      <td>3.0</td>\n",
       "      <td>4.0</td>\n",
       "      <td>3.0</td>\n",
       "      <td>NaN</td>\n",
       "      <td>Auto Loan, Credit-Builder Loan, Personal Loan,...</td>\n",
       "      <td>...</td>\n",
       "      <td>4.0</td>\n",
       "      <td>Good</td>\n",
       "      <td>809.98</td>\n",
       "      <td>28.609352</td>\n",
       "      <td>267.0</td>\n",
       "      <td>No</td>\n",
       "      <td>81.699521</td>\n",
       "      <td>Low_spent_Medium_value_payments</td>\n",
       "      <td>331.209863</td>\n",
       "      <td>Good</td>\n",
       "    </tr>\n",
       "    <tr>\n",
       "      <th>3</th>\n",
       "      <td>3</td>\n",
       "      <td>23.0</td>\n",
       "      <td>Scientist</td>\n",
       "      <td>19114.12</td>\n",
       "      <td>1824.843333</td>\n",
       "      <td>NaN</td>\n",
       "      <td>4.0</td>\n",
       "      <td>3.0</td>\n",
       "      <td>4.0</td>\n",
       "      <td>Auto Loan, Credit-Builder Loan, Personal Loan,...</td>\n",
       "      <td>...</td>\n",
       "      <td>NaN</td>\n",
       "      <td>Good</td>\n",
       "      <td>809.98</td>\n",
       "      <td>31.377862</td>\n",
       "      <td>268.0</td>\n",
       "      <td>No</td>\n",
       "      <td>199.458074</td>\n",
       "      <td>Low_spent_Small_value_payments</td>\n",
       "      <td>223.451310</td>\n",
       "      <td>Good</td>\n",
       "    </tr>\n",
       "    <tr>\n",
       "      <th>4</th>\n",
       "      <td>4</td>\n",
       "      <td>23.0</td>\n",
       "      <td>NaN</td>\n",
       "      <td>19114.12</td>\n",
       "      <td>1824.843333</td>\n",
       "      <td>3.0</td>\n",
       "      <td>4.0</td>\n",
       "      <td>3.0</td>\n",
       "      <td>4.0</td>\n",
       "      <td>Auto Loan, Credit-Builder Loan, Personal Loan,...</td>\n",
       "      <td>...</td>\n",
       "      <td>4.0</td>\n",
       "      <td>Good</td>\n",
       "      <td>809.98</td>\n",
       "      <td>24.797347</td>\n",
       "      <td>269.0</td>\n",
       "      <td>No</td>\n",
       "      <td>41.420153</td>\n",
       "      <td>High_spent_Medium_value_payments</td>\n",
       "      <td>341.489231</td>\n",
       "      <td>Good</td>\n",
       "    </tr>\n",
       "  </tbody>\n",
       "</table>\n",
       "<p>5 rows × 23 columns</p>\n",
       "</div>"
      ],
      "text/plain": [
       "   id   Age Occupation  Annual_Income  Monthly_Inhand_Salary  \\\n",
       "0   0  23.0  Scientist       19114.12            1824.843333   \n",
       "1   1  23.0  Scientist            NaN            1824.843333   \n",
       "2   2  23.0  Scientist       19114.12            1824.843333   \n",
       "3   3  23.0  Scientist       19114.12            1824.843333   \n",
       "4   4  23.0        NaN       19114.12            1824.843333   \n",
       "\n",
       "   Num_Bank_Accounts  Num_Credit_Card  Interest_Rate  Num_of_Loan  \\\n",
       "0                3.0              4.0            3.0          4.0   \n",
       "1                3.0              4.0            3.0          4.0   \n",
       "2                3.0              4.0            3.0          NaN   \n",
       "3                NaN              4.0            3.0          4.0   \n",
       "4                3.0              4.0            3.0          4.0   \n",
       "\n",
       "                                        Type_of_Loan  ...  \\\n",
       "0  Auto Loan, Credit-Builder Loan, Personal Loan,...  ...   \n",
       "1  Auto Loan, Credit-Builder Loan, Personal Loan,...  ...   \n",
       "2  Auto Loan, Credit-Builder Loan, Personal Loan,...  ...   \n",
       "3  Auto Loan, Credit-Builder Loan, Personal Loan,...  ...   \n",
       "4  Auto Loan, Credit-Builder Loan, Personal Loan,...  ...   \n",
       "\n",
       "   Num_Credit_Inquiries  Credit_Mix  Outstanding_Debt  \\\n",
       "0                   4.0        Good            809.98   \n",
       "1                   4.0        Good            809.98   \n",
       "2                   4.0        Good            809.98   \n",
       "3                   NaN        Good            809.98   \n",
       "4                   4.0        Good            809.98   \n",
       "\n",
       "   Credit_Utilization_Ratio Credit_History_Age  Payment_of_Min_Amount  \\\n",
       "0                 26.822620              265.0                     No   \n",
       "1                       NaN              266.0                     No   \n",
       "2                 28.609352              267.0                     No   \n",
       "3                 31.377862              268.0                     No   \n",
       "4                 24.797347              269.0                     No   \n",
       "\n",
       "   Amount_invested_monthly                 Payment_Behaviour Monthly_Balance  \\\n",
       "0                80.415295                               NaN      312.494089   \n",
       "1               118.280222    Low_spent_Large_value_payments      284.629162   \n",
       "2                81.699521   Low_spent_Medium_value_payments      331.209863   \n",
       "3               199.458074    Low_spent_Small_value_payments      223.451310   \n",
       "4                41.420153  High_spent_Medium_value_payments      341.489231   \n",
       "\n",
       "   Credit_Score  \n",
       "0          Good  \n",
       "1          Good  \n",
       "2          Good  \n",
       "3          Good  \n",
       "4          Good  \n",
       "\n",
       "[5 rows x 23 columns]"
      ]
     },
     "execution_count": 460,
     "metadata": {},
     "output_type": "execute_result"
    }
   ],
   "source": [
    "data_df.head()"
   ]
  },
  {
   "cell_type": "markdown",
   "id": "1b672bf1",
   "metadata": {},
   "source": [
    "### 1.4 Getting information from data"
   ]
  },
  {
   "cell_type": "code",
   "execution_count": 461,
   "id": "e6d03d7f",
   "metadata": {},
   "outputs": [
    {
     "name": "stdout",
     "output_type": "stream",
     "text": [
      "<class 'pandas.core.frame.DataFrame'>\n",
      "RangeIndex: 100000 entries, 0 to 99999\n",
      "Data columns (total 23 columns):\n",
      " #   Column                    Non-Null Count   Dtype  \n",
      "---  ------                    --------------   -----  \n",
      " 0   id                        100000 non-null  int64  \n",
      " 1   Age                       90113 non-null   float64\n",
      " 2   Occupation                89954 non-null   object \n",
      " 3   Annual_Income             89811 non-null   float64\n",
      " 4   Monthly_Inhand_Salary     89881 non-null   float64\n",
      " 5   Num_Bank_Accounts         89935 non-null   float64\n",
      " 6   Num_Credit_Card           90131 non-null   float64\n",
      " 7   Interest_Rate             89999 non-null   float64\n",
      " 8   Num_of_Loan               90030 non-null   float64\n",
      " 9   Type_of_Loan              89921 non-null   object \n",
      " 10  Delay_from_due_date       90053 non-null   float64\n",
      " 11  Num_of_Delayed_Payment    89927 non-null   float64\n",
      " 12  Changed_Credit_Limit      90077 non-null   float64\n",
      " 13  Num_Credit_Inquiries      89971 non-null   float64\n",
      " 14  Credit_Mix                89895 non-null   object \n",
      " 15  Outstanding_Debt          90154 non-null   float64\n",
      " 16  Credit_Utilization_Ratio  89988 non-null   float64\n",
      " 17  Credit_History_Age        90016 non-null   float64\n",
      " 18  Payment_of_Min_Amount     90042 non-null   object \n",
      " 19  Amount_invested_monthly   89955 non-null   float64\n",
      " 20  Payment_Behaviour         89924 non-null   object \n",
      " 21  Monthly_Balance           90101 non-null   float64\n",
      " 22  Credit_Score              100000 non-null  object \n",
      "dtypes: float64(16), int64(1), object(6)\n",
      "memory usage: 17.5+ MB\n"
     ]
    }
   ],
   "source": [
    "data_df.info()"
   ]
  },
  {
   "cell_type": "markdown",
   "id": "11202942",
   "metadata": {},
   "source": [
    "This visualization helps us a lot. In fact, we know that there are only two columns having complete information (hence, 0 null-values): id and Credit_score. Instead, all the other columns include null-values, and we will see later how to handle them. Moreover, we see that among 23 variables only 6 are categorical, while 17 are numerical. Again, we will see later how to handle the former ones."
   ]
  },
  {
   "cell_type": "markdown",
   "id": "1e17b9ef",
   "metadata": {},
   "source": [
    "### 1.5 Handling missing values "
   ]
  },
  {
   "cell_type": "markdown",
   "id": "cf496b86",
   "metadata": {},
   "source": [
    "Despite it may seem a task concerning data cleaning, we will handle missing values in exploratory data analysis in order to plot data and have a better visualization. In particluar, we will adopt the following strategy to handle missing values: we will replace them with the mode, both in the case of categorical data and numerical data.\n",
    "\n",
    "We will avoid both rowise and columnswise deletion, thus mantaining as much information as possible to build a more accurate model."
   ]
  },
  {
   "cell_type": "markdown",
   "id": "178b6554",
   "metadata": {},
   "source": [
    "#### General overview of null-values"
   ]
  },
  {
   "cell_type": "code",
   "execution_count": 462,
   "id": "71bf8a35",
   "metadata": {},
   "outputs": [
    {
     "data": {
      "text/plain": [
       "id                              0\n",
       "Age                          9887\n",
       "Occupation                  10046\n",
       "Annual_Income               10189\n",
       "Monthly_Inhand_Salary       10119\n",
       "Num_Bank_Accounts           10065\n",
       "Num_Credit_Card              9869\n",
       "Interest_Rate               10001\n",
       "Num_of_Loan                  9970\n",
       "Type_of_Loan                10079\n",
       "Delay_from_due_date          9947\n",
       "Num_of_Delayed_Payment      10073\n",
       "Changed_Credit_Limit         9923\n",
       "Num_Credit_Inquiries        10029\n",
       "Credit_Mix                  10105\n",
       "Outstanding_Debt             9846\n",
       "Credit_Utilization_Ratio    10012\n",
       "Credit_History_Age           9984\n",
       "Payment_of_Min_Amount        9958\n",
       "Amount_invested_monthly     10045\n",
       "Payment_Behaviour           10076\n",
       "Monthly_Balance              9899\n",
       "Credit_Score                    0\n",
       "dtype: int64"
      ]
     },
     "execution_count": 462,
     "metadata": {},
     "output_type": "execute_result"
    }
   ],
   "source": [
    "data_df.isnull().sum()"
   ]
  },
  {
   "cell_type": "markdown",
   "id": "536ad6e3",
   "metadata": {},
   "source": [
    "Note that on average, the 10% of each column's values is made of null-values."
   ]
  },
  {
   "cell_type": "code",
   "execution_count": 463,
   "id": "1c7e705d",
   "metadata": {},
   "outputs": [
    {
     "data": {
      "text/plain": [
       "id                          0\n",
       "Age                         0\n",
       "Occupation                  0\n",
       "Annual_Income               0\n",
       "Monthly_Inhand_Salary       0\n",
       "Num_Bank_Accounts           0\n",
       "Num_Credit_Card             0\n",
       "Interest_Rate               0\n",
       "Num_of_Loan                 0\n",
       "Type_of_Loan                0\n",
       "Delay_from_due_date         0\n",
       "Num_of_Delayed_Payment      0\n",
       "Changed_Credit_Limit        0\n",
       "Num_Credit_Inquiries        0\n",
       "Credit_Mix                  0\n",
       "Outstanding_Debt            0\n",
       "Credit_Utilization_Ratio    0\n",
       "Credit_History_Age          0\n",
       "Payment_of_Min_Amount       0\n",
       "Amount_invested_monthly     0\n",
       "Payment_Behaviour           0\n",
       "Monthly_Balance             0\n",
       "Credit_Score                0\n",
       "dtype: int64"
      ]
     },
     "execution_count": 463,
     "metadata": {},
     "output_type": "execute_result"
    }
   ],
   "source": [
    "for column in data_df.columns:\n",
    "    data_df[column].fillna(data_df[column].mode()[0], inplace=True)\n",
    "data_df.isnull().sum()"
   ]
  },
  {
   "cell_type": "markdown",
   "id": "ea0a055b",
   "metadata": {},
   "source": [
    "We avoided long computations by using a single for loop that iterates over the columns of the dataframe and replaces the missing rows of each column with its mode. Now, using the command \".isnull().sum()\", we notice that there are no longer columns containing missing values."
   ]
  },
  {
   "cell_type": "markdown",
   "id": "5f5ebcae",
   "metadata": {},
   "source": [
    "### 1.6 Relevant features of numeric variables"
   ]
  },
  {
   "cell_type": "markdown",
   "id": "ab84b241",
   "metadata": {},
   "source": [
    "Thanks to the function \"describe\", one can show the most interesting features for each numerical variable, such as mean, standard deviation, min value and max value."
   ]
  },
  {
   "cell_type": "code",
   "execution_count": 464,
   "id": "c7a1d6b8",
   "metadata": {},
   "outputs": [
    {
     "data": {
      "text/html": [
       "<div>\n",
       "<style scoped>\n",
       "    .dataframe tbody tr th:only-of-type {\n",
       "        vertical-align: middle;\n",
       "    }\n",
       "\n",
       "    .dataframe tbody tr th {\n",
       "        vertical-align: top;\n",
       "    }\n",
       "\n",
       "    .dataframe thead th {\n",
       "        text-align: right;\n",
       "    }\n",
       "</style>\n",
       "<table border=\"1\" class=\"dataframe\">\n",
       "  <thead>\n",
       "    <tr style=\"text-align: right;\">\n",
       "      <th></th>\n",
       "      <th>id</th>\n",
       "      <th>Age</th>\n",
       "      <th>Annual_Income</th>\n",
       "      <th>Monthly_Inhand_Salary</th>\n",
       "      <th>Num_Bank_Accounts</th>\n",
       "      <th>Num_Credit_Card</th>\n",
       "      <th>Interest_Rate</th>\n",
       "      <th>Num_of_Loan</th>\n",
       "      <th>Delay_from_due_date</th>\n",
       "      <th>Num_of_Delayed_Payment</th>\n",
       "      <th>Changed_Credit_Limit</th>\n",
       "      <th>Num_Credit_Inquiries</th>\n",
       "      <th>Outstanding_Debt</th>\n",
       "      <th>Credit_Utilization_Ratio</th>\n",
       "      <th>Credit_History_Age</th>\n",
       "      <th>Amount_invested_monthly</th>\n",
       "      <th>Monthly_Balance</th>\n",
       "    </tr>\n",
       "  </thead>\n",
       "  <tbody>\n",
       "    <tr>\n",
       "      <th>count</th>\n",
       "      <td>100000.000000</td>\n",
       "      <td>100000.000000</td>\n",
       "      <td>100000.000000</td>\n",
       "      <td>100000.000000</td>\n",
       "      <td>100000.000000</td>\n",
       "      <td>100000.000000</td>\n",
       "      <td>100000.000000</td>\n",
       "      <td>100000.000000</td>\n",
       "      <td>100000.000000</td>\n",
       "      <td>100000.00000</td>\n",
       "      <td>100000.000000</td>\n",
       "      <td>100000.000000</td>\n",
       "      <td>100000.000000</td>\n",
       "      <td>100000.000000</td>\n",
       "      <td>100000.00000</td>\n",
       "      <td>100000.000000</td>\n",
       "      <td>1.000000e+05</td>\n",
       "    </tr>\n",
       "    <tr>\n",
       "      <th>mean</th>\n",
       "      <td>49999.500000</td>\n",
       "      <td>33.795250</td>\n",
       "      <td>56564.452515</td>\n",
       "      <td>4082.741972</td>\n",
       "      <td>5.426810</td>\n",
       "      <td>5.481080</td>\n",
       "      <td>13.871310</td>\n",
       "      <td>3.382150</td>\n",
       "      <td>20.469180</td>\n",
       "      <td>13.87475</td>\n",
       "      <td>10.249110</td>\n",
       "      <td>5.624520</td>\n",
       "      <td>1330.194566</td>\n",
       "      <td>31.066500</td>\n",
       "      <td>220.29518</td>\n",
       "      <td>1587.086647</td>\n",
       "      <td>-3.303000e+25</td>\n",
       "    </tr>\n",
       "    <tr>\n",
       "      <th>std</th>\n",
       "      <td>28867.657797</td>\n",
       "      <td>10.314077</td>\n",
       "      <td>40472.167201</td>\n",
       "      <td>3041.033506</td>\n",
       "      <td>2.464736</td>\n",
       "      <td>1.970386</td>\n",
       "      <td>8.519373</td>\n",
       "      <td>2.369626</td>\n",
       "      <td>14.172442</td>\n",
       "      <td>6.18341</td>\n",
       "      <td>6.304513</td>\n",
       "      <td>3.711699</td>\n",
       "      <td>1132.236575</td>\n",
       "      <td>6.074480</td>\n",
       "      <td>94.59550</td>\n",
       "      <td>3433.612104</td>\n",
       "      <td>9.959477e+25</td>\n",
       "    </tr>\n",
       "    <tr>\n",
       "      <th>min</th>\n",
       "      <td>0.000000</td>\n",
       "      <td>14.000000</td>\n",
       "      <td>7005.930000</td>\n",
       "      <td>303.645417</td>\n",
       "      <td>-1.000000</td>\n",
       "      <td>0.000000</td>\n",
       "      <td>1.000000</td>\n",
       "      <td>0.000000</td>\n",
       "      <td>-1.000000</td>\n",
       "      <td>-2.00000</td>\n",
       "      <td>0.500000</td>\n",
       "      <td>0.000000</td>\n",
       "      <td>0.230000</td>\n",
       "      <td>20.100770</td>\n",
       "      <td>1.00000</td>\n",
       "      <td>0.000000</td>\n",
       "      <td>-3.333333e+26</td>\n",
       "    </tr>\n",
       "    <tr>\n",
       "      <th>25%</th>\n",
       "      <td>24999.750000</td>\n",
       "      <td>25.000000</td>\n",
       "      <td>20347.965000</td>\n",
       "      <td>1724.938333</td>\n",
       "      <td>4.000000</td>\n",
       "      <td>4.000000</td>\n",
       "      <td>8.000000</td>\n",
       "      <td>2.000000</td>\n",
       "      <td>11.000000</td>\n",
       "      <td>9.00000</td>\n",
       "      <td>5.930000</td>\n",
       "      <td>3.000000</td>\n",
       "      <td>460.460000</td>\n",
       "      <td>26.592587</td>\n",
       "      <td>155.00000</td>\n",
       "      <td>76.153684</td>\n",
       "      <td>2.442807e+02</td>\n",
       "    </tr>\n",
       "    <tr>\n",
       "      <th>50%</th>\n",
       "      <td>49999.500000</td>\n",
       "      <td>35.000000</td>\n",
       "      <td>42274.960000</td>\n",
       "      <td>3080.555000</td>\n",
       "      <td>6.000000</td>\n",
       "      <td>5.000000</td>\n",
       "      <td>12.000000</td>\n",
       "      <td>3.000000</td>\n",
       "      <td>16.000000</td>\n",
       "      <td>15.00000</td>\n",
       "      <td>8.630000</td>\n",
       "      <td>5.000000</td>\n",
       "      <td>1036.990000</td>\n",
       "      <td>31.377506</td>\n",
       "      <td>213.00000</td>\n",
       "      <td>149.037636</td>\n",
       "      <td>3.173305e+02</td>\n",
       "    </tr>\n",
       "    <tr>\n",
       "      <th>75%</th>\n",
       "      <td>74999.250000</td>\n",
       "      <td>41.000000</td>\n",
       "      <td>88227.305000</td>\n",
       "      <td>5582.570625</td>\n",
       "      <td>7.000000</td>\n",
       "      <td>7.000000</td>\n",
       "      <td>19.000000</td>\n",
       "      <td>5.000000</td>\n",
       "      <td>27.000000</td>\n",
       "      <td>19.00000</td>\n",
       "      <td>13.870000</td>\n",
       "      <td>8.000000</td>\n",
       "      <td>1760.010000</td>\n",
       "      <td>36.033109</td>\n",
       "      <td>291.00000</td>\n",
       "      <td>372.057747</td>\n",
       "      <td>4.424400e+02</td>\n",
       "    </tr>\n",
       "    <tr>\n",
       "      <th>max</th>\n",
       "      <td>99999.000000</td>\n",
       "      <td>56.000000</td>\n",
       "      <td>179987.280000</td>\n",
       "      <td>15204.633333</td>\n",
       "      <td>11.000000</td>\n",
       "      <td>11.000000</td>\n",
       "      <td>34.000000</td>\n",
       "      <td>9.000000</td>\n",
       "      <td>62.000000</td>\n",
       "      <td>25.00000</td>\n",
       "      <td>29.980000</td>\n",
       "      <td>17.000000</td>\n",
       "      <td>4998.070000</td>\n",
       "      <td>50.000000</td>\n",
       "      <td>404.00000</td>\n",
       "      <td>10000.000000</td>\n",
       "      <td>1.183931e+03</td>\n",
       "    </tr>\n",
       "  </tbody>\n",
       "</table>\n",
       "</div>"
      ],
      "text/plain": [
       "                  id            Age  Annual_Income  Monthly_Inhand_Salary  \\\n",
       "count  100000.000000  100000.000000  100000.000000          100000.000000   \n",
       "mean    49999.500000      33.795250   56564.452515            4082.741972   \n",
       "std     28867.657797      10.314077   40472.167201            3041.033506   \n",
       "min         0.000000      14.000000    7005.930000             303.645417   \n",
       "25%     24999.750000      25.000000   20347.965000            1724.938333   \n",
       "50%     49999.500000      35.000000   42274.960000            3080.555000   \n",
       "75%     74999.250000      41.000000   88227.305000            5582.570625   \n",
       "max     99999.000000      56.000000  179987.280000           15204.633333   \n",
       "\n",
       "       Num_Bank_Accounts  Num_Credit_Card  Interest_Rate    Num_of_Loan  \\\n",
       "count      100000.000000    100000.000000  100000.000000  100000.000000   \n",
       "mean            5.426810         5.481080      13.871310       3.382150   \n",
       "std             2.464736         1.970386       8.519373       2.369626   \n",
       "min            -1.000000         0.000000       1.000000       0.000000   \n",
       "25%             4.000000         4.000000       8.000000       2.000000   \n",
       "50%             6.000000         5.000000      12.000000       3.000000   \n",
       "75%             7.000000         7.000000      19.000000       5.000000   \n",
       "max            11.000000        11.000000      34.000000       9.000000   \n",
       "\n",
       "       Delay_from_due_date  Num_of_Delayed_Payment  Changed_Credit_Limit  \\\n",
       "count        100000.000000            100000.00000         100000.000000   \n",
       "mean             20.469180                13.87475             10.249110   \n",
       "std              14.172442                 6.18341              6.304513   \n",
       "min              -1.000000                -2.00000              0.500000   \n",
       "25%              11.000000                 9.00000              5.930000   \n",
       "50%              16.000000                15.00000              8.630000   \n",
       "75%              27.000000                19.00000             13.870000   \n",
       "max              62.000000                25.00000             29.980000   \n",
       "\n",
       "       Num_Credit_Inquiries  Outstanding_Debt  Credit_Utilization_Ratio  \\\n",
       "count         100000.000000     100000.000000             100000.000000   \n",
       "mean               5.624520       1330.194566                 31.066500   \n",
       "std                3.711699       1132.236575                  6.074480   \n",
       "min                0.000000          0.230000                 20.100770   \n",
       "25%                3.000000        460.460000                 26.592587   \n",
       "50%                5.000000       1036.990000                 31.377506   \n",
       "75%                8.000000       1760.010000                 36.033109   \n",
       "max               17.000000       4998.070000                 50.000000   \n",
       "\n",
       "       Credit_History_Age  Amount_invested_monthly  Monthly_Balance  \n",
       "count        100000.00000            100000.000000     1.000000e+05  \n",
       "mean            220.29518              1587.086647    -3.303000e+25  \n",
       "std              94.59550              3433.612104     9.959477e+25  \n",
       "min               1.00000                 0.000000    -3.333333e+26  \n",
       "25%             155.00000                76.153684     2.442807e+02  \n",
       "50%             213.00000               149.037636     3.173305e+02  \n",
       "75%             291.00000               372.057747     4.424400e+02  \n",
       "max             404.00000             10000.000000     1.183931e+03  "
      ]
     },
     "execution_count": 464,
     "metadata": {},
     "output_type": "execute_result"
    }
   ],
   "source": [
    "data_df.describe()"
   ]
  },
  {
   "cell_type": "markdown",
   "id": "4ab01f43",
   "metadata": {},
   "source": [
    "This overview enables us to highlight some insights. Among the latter we find that:\n",
    "\n",
    "- The dataset includes only relatively young people, since the oldest one is 56 years old and the average age is around 34.\n",
    "- Users tend to belong to the wealthy class (on average), since the mean monthly salary is approximately 4100 USD.\n",
    "- Most of the users tend to have a high number of delayed payments (since 3rd quartile is 19), but at the same time the delay (in term of days) is not too high. In fact, the third quartile for the latter is 27 days, and the highest value is 62 days. So, there's no user in the dataset that exceeds payments of more than two months.\n",
    "- The outstanding debt is not high, since it's on average fixed to approximately 1300 USD, and the third quartile is approximately 1800 USD."
   ]
  },
  {
   "cell_type": "markdown",
   "id": "31f8dd1e",
   "metadata": {},
   "source": [
    "### 1.7 Insights on categorical variables"
   ]
  },
  {
   "cell_type": "markdown",
   "id": "12d2d17f",
   "metadata": {},
   "source": [
    "Through the function\".info()\" we found out that among the 23 variabes, 6 of them were categorical. The latter are the following:\n",
    "- Occupation\n",
    "- Type_of_Loan\n",
    "- Credit_Mix\n",
    "- Payment_of_Min_Amount\n",
    "- Payment_Behaviour\n",
    "- Credit_Score"
   ]
  },
  {
   "cell_type": "markdown",
   "id": "d1b6c9cb",
   "metadata": {},
   "source": [
    "#### Insights of \"Occupation\""
   ]
  },
  {
   "cell_type": "code",
   "execution_count": 465,
   "id": "3fd331ea",
   "metadata": {},
   "outputs": [
    {
     "data": {
      "text/plain": [
       "Lawyer           16414\n",
       "Engineer          6150\n",
       "Architect         6147\n",
       "Accountant        6073\n",
       "Developer         6058\n",
       "Teacher           6050\n",
       "Mechanic          6049\n",
       "Media_Manager     6047\n",
       "Scientist         6033\n",
       "Entrepreneur      5982\n",
       "Doctor            5941\n",
       "Journalist        5891\n",
       "Manager           5777\n",
       "Musician          5736\n",
       "Writer            5652\n",
       "Name: Occupation, dtype: int64"
      ]
     },
     "execution_count": 465,
     "metadata": {},
     "output_type": "execute_result"
    }
   ],
   "source": [
    "data_df['Occupation'].value_counts()"
   ]
  },
  {
   "cell_type": "code",
   "execution_count": 466,
   "id": "4bf3d1a0",
   "metadata": {},
   "outputs": [
    {
     "data": {
      "image/png": "[encoded data removed]",
      "text/plain": [
       "<Figure size 1440x720 with 1 Axes>"
      ]
     },
     "metadata": {
      "needs_background": "light"
     },
     "output_type": "display_data"
    }
   ],
   "source": [
    "plt.figure(figsize=(20,10))\n",
    "data_df['Occupation'].value_counts().plot(kind=\"bar\")\n",
    "plt.title(\"Value counts of 'Occupation'\")\n",
    "plt.xlabel(\"Occupation\")\n",
    "plt.xticks(rotation=0)\n",
    "plt.ylabel(\"Count\")\n",
    "plt.tight_layout()\n",
    "plt.show()"
   ]
  },
  {
   "cell_type": "markdown",
   "id": "66f2665a",
   "metadata": {},
   "source": [
    "It is clearly evident that the dataset is in a sense unbalanced (at least under the point of view of occupation), since there are much more lawyers than other employees."
   ]
  },
  {
   "cell_type": "markdown",
   "id": "b0c70df1",
   "metadata": {},
   "source": [
    "#### Insights of \"Type_of_Loan\""
   ]
  },
  {
   "cell_type": "code",
   "execution_count": 467,
   "id": "4d2e19c9",
   "metadata": {},
   "outputs": [],
   "source": [
    "data_df['Type_of_Loan'].value_counts();"
   ]
  },
  {
   "cell_type": "markdown",
   "id": "64ee4ce7",
   "metadata": {},
   "source": [
    "Notice that the variable is a multiattribute one, since a person may have multiple loans of many types."
   ]
  },
  {
   "cell_type": "markdown",
   "id": "66f2058e",
   "metadata": {},
   "source": [
    "#### Insights of \"Credit_Mix\""
   ]
  },
  {
   "cell_type": "code",
   "execution_count": 468,
   "id": "d02df4ee",
   "metadata": {},
   "outputs": [
    {
     "data": {
      "text/plain": [
       "Standard    51328\n",
       "Good        27173\n",
       "Bad         21499\n",
       "Name: Credit_Mix, dtype: int64"
      ]
     },
     "execution_count": 468,
     "metadata": {},
     "output_type": "execute_result"
    }
   ],
   "source": [
    "data_df['Credit_Mix'].value_counts()"
   ]
  },
  {
   "cell_type": "code",
   "execution_count": 469,
   "id": "f3c122e0",
   "metadata": {},
   "outputs": [
    {
     "data": {
      "image/png": "[encoded data removed]",
      "text/plain": [
       "<Figure size 720x504 with 1 Axes>"
      ]
     },
     "metadata": {
      "needs_background": "light"
     },
     "output_type": "display_data"
    }
   ],
   "source": [
    "plt.figure(figsize=(10,7))\n",
    "data_df['Credit_Mix'].value_counts().plot(kind=\"bar\")\n",
    "plt.title(\"Value counts of 'Credit_Mix'\")\n",
    "plt.xlabel(\"Credit_Mix\")\n",
    "plt.xticks(rotation=0)\n",
    "plt.ylabel(\"Count\")\n",
    "plt.show()"
   ]
  },
  {
   "cell_type": "markdown",
   "id": "3202a960",
   "metadata": {},
   "source": [
    "Standard classification of the mix of credits is the most frequent, while bad is the least one."
   ]
  },
  {
   "cell_type": "markdown",
   "id": "5c4df9dc",
   "metadata": {},
   "source": [
    "#### Insights on \"Payment_of_Min_Amount\""
   ]
  },
  {
   "cell_type": "code",
   "execution_count": 470,
   "id": "ba2f64a7",
   "metadata": {},
   "outputs": [
    {
     "data": {
      "text/plain": [
       "Yes    57035\n",
       "No     32079\n",
       "NM     10886\n",
       "Name: Payment_of_Min_Amount, dtype: int64"
      ]
     },
     "execution_count": 470,
     "metadata": {},
     "output_type": "execute_result"
    }
   ],
   "source": [
    "data_df['Payment_of_Min_Amount'].value_counts()"
   ]
  },
  {
   "cell_type": "code",
   "execution_count": 471,
   "id": "30376129",
   "metadata": {},
   "outputs": [
    {
     "data": {
      "image/png": "[encoded data removed]",
      "text/plain": [
       "<Figure size 720x504 with 1 Axes>"
      ]
     },
     "metadata": {
      "needs_background": "light"
     },
     "output_type": "display_data"
    }
   ],
   "source": [
    "plt.figure(figsize=(10,7))\n",
    "data_df['Payment_of_Min_Amount'].value_counts().plot(kind=\"bar\")\n",
    "plt.title(\"Value counts of 'Payment_of_Min_Amount'\")\n",
    "plt.xlabel(\"Payment_of_Min_Amount\")\n",
    "plt.xticks(rotation=0)\n",
    "plt.ylabel(\"Count\")\n",
    "plt.show()"
   ]
  },
  {
   "cell_type": "markdown",
   "id": "dda21a08",
   "metadata": {},
   "source": [
    "This variable represents whether only the minimum amount was paid by\n",
    "the person. It seems that most of the times the answer is \"Yes\"."
   ]
  },
  {
   "cell_type": "markdown",
   "id": "6099bf28",
   "metadata": {},
   "source": [
    "#### Insights on \"Payment_Behaviour\""
   ]
  },
  {
   "cell_type": "code",
   "execution_count": 472,
   "id": "7b34e450",
   "metadata": {},
   "outputs": [
    {
     "data": {
      "text/plain": [
       "Low_spent_Small_value_payments      35426\n",
       "High_spent_Medium_value_payments    17694\n",
       "Low_spent_Medium_value_payments     13265\n",
       "High_spent_Large_value_payments     13184\n",
       "High_spent_Small_value_payments     10694\n",
       "Low_spent_Large_value_payments       9737\n",
       "Name: Payment_Behaviour, dtype: int64"
      ]
     },
     "execution_count": 472,
     "metadata": {},
     "output_type": "execute_result"
    }
   ],
   "source": [
    "data_df['Payment_Behaviour'].value_counts()"
   ]
  },
  {
   "cell_type": "code",
   "execution_count": 473,
   "id": "6185127e",
   "metadata": {},
   "outputs": [
    {
     "data": {
      "image/png": "[encoded data removed]",
      "text/plain": [
       "<Figure size 1440x720 with 1 Axes>"
      ]
     },
     "metadata": {
      "needs_background": "light"
     },
     "output_type": "display_data"
    }
   ],
   "source": [
    "plt.figure(figsize=(20,10))\n",
    "data_df['Payment_Behaviour'].value_counts().plot(kind=\"bar\")\n",
    "plt.title(\"Value counts of 'Payment_Behaviour'\")\n",
    "plt.xlabel(\"Payment_Behaviour\")\n",
    "plt.xticks(rotation=0)\n",
    "plt.ylabel(\"Count\")\n",
    "plt.tight_layout()\n",
    "plt.show()"
   ]
  },
  {
   "cell_type": "markdown",
   "id": "b13e100a",
   "metadata": {},
   "source": [
    "\"Low_spent_Small_value_payments\" are the most frequent."
   ]
  },
  {
   "cell_type": "markdown",
   "id": "69b3a06e",
   "metadata": {},
   "source": [
    "#### Insights on \"Credit_Score\"\n",
    "Since Credit_Score is the variable we aim to predict (hence it's our target variable), it is particularly interesting to see some insights."
   ]
  },
  {
   "cell_type": "code",
   "execution_count": 474,
   "id": "73358f23",
   "metadata": {},
   "outputs": [
    {
     "data": {
      "text/plain": [
       "Standard    53174\n",
       "Poor        28998\n",
       "Good        17828\n",
       "Name: Credit_Score, dtype: int64"
      ]
     },
     "execution_count": 474,
     "metadata": {},
     "output_type": "execute_result"
    }
   ],
   "source": [
    "data_df['Credit_Score'].value_counts()"
   ]
  },
  {
   "cell_type": "code",
   "execution_count": 475,
   "id": "8461a3e8",
   "metadata": {},
   "outputs": [
    {
     "data": {
      "image/png": "[encoded data removed]",
      "text/plain": [
       "<Figure size 720x504 with 1 Axes>"
      ]
     },
     "metadata": {
      "needs_background": "light"
     },
     "output_type": "display_data"
    }
   ],
   "source": [
    "plt.figure(figsize=(10,7))\n",
    "data_df['Credit_Score'].value_counts().plot(kind=\"bar\")\n",
    "plt.title(\"Value counts of the target variable\")\n",
    "plt.xlabel(\"Credit Score\")\n",
    "plt.xticks(rotation=0)\n",
    "plt.ylabel(\"Count\")\n",
    "plt.show()"
   ]
  },
  {
   "cell_type": "markdown",
   "id": "a2d01100",
   "metadata": {},
   "source": [
    "The plot shows us in a clear way that most of the users of our datasets are labelled as \"Standard\" credit score users."
   ]
  },
  {
   "cell_type": "markdown",
   "id": "dbcadafa",
   "metadata": {},
   "source": [
    "Notice that what we have deduced from the plots might have been obtained even using the \".mode()\" function."
   ]
  },
  {
   "cell_type": "markdown",
   "id": "ce0ec0f2",
   "metadata": {},
   "source": [
    "### 1.8 Insights on numerical variables"
   ]
  },
  {
   "cell_type": "markdown",
   "id": "7fe0d452",
   "metadata": {},
   "source": [
    "Since we're focusing on numerical variables, it is possible to compute correlation. In order to achieve such goal we will use the \".corr()\" function. "
   ]
  },
  {
   "cell_type": "code",
   "execution_count": 476,
   "id": "fb0dc3f3",
   "metadata": {},
   "outputs": [
    {
     "data": {
      "text/html": [
       "<div>\n",
       "<style scoped>\n",
       "    .dataframe tbody tr th:only-of-type {\n",
       "        vertical-align: middle;\n",
       "    }\n",
       "\n",
       "    .dataframe tbody tr th {\n",
       "        vertical-align: top;\n",
       "    }\n",
       "\n",
       "    .dataframe thead th {\n",
       "        text-align: right;\n",
       "    }\n",
       "</style>\n",
       "<table border=\"1\" class=\"dataframe\">\n",
       "  <thead>\n",
       "    <tr style=\"text-align: right;\">\n",
       "      <th></th>\n",
       "      <th>id</th>\n",
       "      <th>Age</th>\n",
       "      <th>Annual_Income</th>\n",
       "      <th>Monthly_Inhand_Salary</th>\n",
       "      <th>Num_Bank_Accounts</th>\n",
       "      <th>Num_Credit_Card</th>\n",
       "      <th>Interest_Rate</th>\n",
       "      <th>Num_of_Loan</th>\n",
       "      <th>Delay_from_due_date</th>\n",
       "      <th>Num_of_Delayed_Payment</th>\n",
       "      <th>Changed_Credit_Limit</th>\n",
       "      <th>Num_Credit_Inquiries</th>\n",
       "      <th>Outstanding_Debt</th>\n",
       "      <th>Credit_Utilization_Ratio</th>\n",
       "      <th>Credit_History_Age</th>\n",
       "      <th>Amount_invested_monthly</th>\n",
       "      <th>Monthly_Balance</th>\n",
       "    </tr>\n",
       "  </thead>\n",
       "  <tbody>\n",
       "    <tr>\n",
       "      <th>id</th>\n",
       "      <td>1.000000</td>\n",
       "      <td>0.003928</td>\n",
       "      <td>-0.006904</td>\n",
       "      <td>-0.003047</td>\n",
       "      <td>0.003438</td>\n",
       "      <td>-0.003064</td>\n",
       "      <td>0.004888</td>\n",
       "      <td>-0.007490</td>\n",
       "      <td>-0.005405</td>\n",
       "      <td>0.002836</td>\n",
       "      <td>0.008075</td>\n",
       "      <td>-0.002166</td>\n",
       "      <td>0.003925</td>\n",
       "      <td>-0.008959</td>\n",
       "      <td>-0.005988</td>\n",
       "      <td>0.000505</td>\n",
       "      <td>-0.003589</td>\n",
       "    </tr>\n",
       "    <tr>\n",
       "      <th>Age</th>\n",
       "      <td>0.003928</td>\n",
       "      <td>1.000000</td>\n",
       "      <td>0.076864</td>\n",
       "      <td>0.081069</td>\n",
       "      <td>-0.171239</td>\n",
       "      <td>-0.131825</td>\n",
       "      <td>-0.188201</td>\n",
       "      <td>-0.188940</td>\n",
       "      <td>-0.155521</td>\n",
       "      <td>-0.159038</td>\n",
       "      <td>-0.141264</td>\n",
       "      <td>-0.221927</td>\n",
       "      <td>-0.176598</td>\n",
       "      <td>0.013245</td>\n",
       "      <td>0.211021</td>\n",
       "      <td>0.002623</td>\n",
       "      <td>0.002658</td>\n",
       "    </tr>\n",
       "    <tr>\n",
       "      <th>Annual_Income</th>\n",
       "      <td>-0.006904</td>\n",
       "      <td>0.076864</td>\n",
       "      <td>1.000000</td>\n",
       "      <td>0.797872</td>\n",
       "      <td>-0.228116</td>\n",
       "      <td>-0.175864</td>\n",
       "      <td>-0.238290</td>\n",
       "      <td>-0.203708</td>\n",
       "      <td>-0.199158</td>\n",
       "      <td>-0.222368</td>\n",
       "      <td>-0.141100</td>\n",
       "      <td>-0.223483</td>\n",
       "      <td>-0.209089</td>\n",
       "      <td>0.115625</td>\n",
       "      <td>0.220930</td>\n",
       "      <td>0.025391</td>\n",
       "      <td>-0.003375</td>\n",
       "    </tr>\n",
       "    <tr>\n",
       "      <th>Monthly_Inhand_Salary</th>\n",
       "      <td>-0.003047</td>\n",
       "      <td>0.081069</td>\n",
       "      <td>0.797872</td>\n",
       "      <td>1.000000</td>\n",
       "      <td>-0.251379</td>\n",
       "      <td>-0.192278</td>\n",
       "      <td>-0.261682</td>\n",
       "      <td>-0.224970</td>\n",
       "      <td>-0.220592</td>\n",
       "      <td>-0.242914</td>\n",
       "      <td>-0.155790</td>\n",
       "      <td>-0.246659</td>\n",
       "      <td>-0.233517</td>\n",
       "      <td>0.125318</td>\n",
       "      <td>0.241836</td>\n",
       "      <td>0.028376</td>\n",
       "      <td>0.002562</td>\n",
       "    </tr>\n",
       "    <tr>\n",
       "      <th>Num_Bank_Accounts</th>\n",
       "      <td>0.003438</td>\n",
       "      <td>-0.171239</td>\n",
       "      <td>-0.228116</td>\n",
       "      <td>-0.251379</td>\n",
       "      <td>1.000000</td>\n",
       "      <td>0.396606</td>\n",
       "      <td>0.509492</td>\n",
       "      <td>0.416166</td>\n",
       "      <td>0.499245</td>\n",
       "      <td>0.520985</td>\n",
       "      <td>0.296989</td>\n",
       "      <td>0.457542</td>\n",
       "      <td>0.440399</td>\n",
       "      <td>-0.049145</td>\n",
       "      <td>-0.434820</td>\n",
       "      <td>-0.013199</td>\n",
       "      <td>0.000452</td>\n",
       "    </tr>\n",
       "    <tr>\n",
       "      <th>Num_Credit_Card</th>\n",
       "      <td>-0.003064</td>\n",
       "      <td>-0.131825</td>\n",
       "      <td>-0.175864</td>\n",
       "      <td>-0.192278</td>\n",
       "      <td>0.396606</td>\n",
       "      <td>1.000000</td>\n",
       "      <td>0.434278</td>\n",
       "      <td>0.368011</td>\n",
       "      <td>0.427296</td>\n",
       "      <td>0.366229</td>\n",
       "      <td>0.227202</td>\n",
       "      <td>0.407610</td>\n",
       "      <td>0.426837</td>\n",
       "      <td>-0.038176</td>\n",
       "      <td>-0.373831</td>\n",
       "      <td>-0.007585</td>\n",
       "      <td>-0.002531</td>\n",
       "    </tr>\n",
       "    <tr>\n",
       "      <th>Interest_Rate</th>\n",
       "      <td>0.004888</td>\n",
       "      <td>-0.188201</td>\n",
       "      <td>-0.238290</td>\n",
       "      <td>-0.261682</td>\n",
       "      <td>0.509492</td>\n",
       "      <td>0.434278</td>\n",
       "      <td>1.000000</td>\n",
       "      <td>0.481802</td>\n",
       "      <td>0.515039</td>\n",
       "      <td>0.479998</td>\n",
       "      <td>0.322939</td>\n",
       "      <td>0.546554</td>\n",
       "      <td>0.531683</td>\n",
       "      <td>-0.052040</td>\n",
       "      <td>-0.505162</td>\n",
       "      <td>-0.015713</td>\n",
       "      <td>0.000439</td>\n",
       "    </tr>\n",
       "    <tr>\n",
       "      <th>Num_of_Loan</th>\n",
       "      <td>-0.007490</td>\n",
       "      <td>-0.188940</td>\n",
       "      <td>-0.203708</td>\n",
       "      <td>-0.224970</td>\n",
       "      <td>0.416166</td>\n",
       "      <td>0.368011</td>\n",
       "      <td>0.481802</td>\n",
       "      <td>1.000000</td>\n",
       "      <td>0.440589</td>\n",
       "      <td>0.401980</td>\n",
       "      <td>0.329039</td>\n",
       "      <td>0.493544</td>\n",
       "      <td>0.547098</td>\n",
       "      <td>-0.070778</td>\n",
       "      <td>-0.536274</td>\n",
       "      <td>-0.009590</td>\n",
       "      <td>-0.004368</td>\n",
       "    </tr>\n",
       "    <tr>\n",
       "      <th>Delay_from_due_date</th>\n",
       "      <td>-0.005405</td>\n",
       "      <td>-0.155521</td>\n",
       "      <td>-0.199158</td>\n",
       "      <td>-0.220592</td>\n",
       "      <td>0.499245</td>\n",
       "      <td>0.427296</td>\n",
       "      <td>0.515039</td>\n",
       "      <td>0.440589</td>\n",
       "      <td>1.000000</td>\n",
       "      <td>0.462616</td>\n",
       "      <td>0.263995</td>\n",
       "      <td>0.477262</td>\n",
       "      <td>0.495868</td>\n",
       "      <td>-0.039908</td>\n",
       "      <td>-0.437551</td>\n",
       "      <td>-0.008768</td>\n",
       "      <td>-0.003315</td>\n",
       "    </tr>\n",
       "    <tr>\n",
       "      <th>Num_of_Delayed_Payment</th>\n",
       "      <td>0.002836</td>\n",
       "      <td>-0.159038</td>\n",
       "      <td>-0.222368</td>\n",
       "      <td>-0.242914</td>\n",
       "      <td>0.520985</td>\n",
       "      <td>0.366229</td>\n",
       "      <td>0.479998</td>\n",
       "      <td>0.401980</td>\n",
       "      <td>0.462616</td>\n",
       "      <td>1.000000</td>\n",
       "      <td>0.281492</td>\n",
       "      <td>0.427285</td>\n",
       "      <td>0.421136</td>\n",
       "      <td>-0.048411</td>\n",
       "      <td>-0.414391</td>\n",
       "      <td>-0.017011</td>\n",
       "      <td>0.000530</td>\n",
       "    </tr>\n",
       "    <tr>\n",
       "      <th>Changed_Credit_Limit</th>\n",
       "      <td>0.008075</td>\n",
       "      <td>-0.141264</td>\n",
       "      <td>-0.141100</td>\n",
       "      <td>-0.155790</td>\n",
       "      <td>0.296989</td>\n",
       "      <td>0.227202</td>\n",
       "      <td>0.322939</td>\n",
       "      <td>0.329039</td>\n",
       "      <td>0.263995</td>\n",
       "      <td>0.281492</td>\n",
       "      <td>1.000000</td>\n",
       "      <td>0.339233</td>\n",
       "      <td>0.401693</td>\n",
       "      <td>-0.034735</td>\n",
       "      <td>-0.384982</td>\n",
       "      <td>-0.009468</td>\n",
       "      <td>0.003426</td>\n",
       "    </tr>\n",
       "    <tr>\n",
       "      <th>Num_Credit_Inquiries</th>\n",
       "      <td>-0.002166</td>\n",
       "      <td>-0.221927</td>\n",
       "      <td>-0.223483</td>\n",
       "      <td>-0.246659</td>\n",
       "      <td>0.457542</td>\n",
       "      <td>0.407610</td>\n",
       "      <td>0.546554</td>\n",
       "      <td>0.493544</td>\n",
       "      <td>0.477262</td>\n",
       "      <td>0.427285</td>\n",
       "      <td>0.339233</td>\n",
       "      <td>1.000000</td>\n",
       "      <td>0.515861</td>\n",
       "      <td>-0.055913</td>\n",
       "      <td>-0.541915</td>\n",
       "      <td>-0.013682</td>\n",
       "      <td>0.003060</td>\n",
       "    </tr>\n",
       "    <tr>\n",
       "      <th>Outstanding_Debt</th>\n",
       "      <td>0.003925</td>\n",
       "      <td>-0.176598</td>\n",
       "      <td>-0.209089</td>\n",
       "      <td>-0.233517</td>\n",
       "      <td>0.440399</td>\n",
       "      <td>0.426837</td>\n",
       "      <td>0.531683</td>\n",
       "      <td>0.547098</td>\n",
       "      <td>0.495868</td>\n",
       "      <td>0.421136</td>\n",
       "      <td>0.401693</td>\n",
       "      <td>0.515861</td>\n",
       "      <td>1.000000</td>\n",
       "      <td>-0.049844</td>\n",
       "      <td>-0.546707</td>\n",
       "      <td>-0.009694</td>\n",
       "      <td>-0.002765</td>\n",
       "    </tr>\n",
       "    <tr>\n",
       "      <th>Credit_Utilization_Ratio</th>\n",
       "      <td>-0.008959</td>\n",
       "      <td>0.013245</td>\n",
       "      <td>0.115625</td>\n",
       "      <td>0.125318</td>\n",
       "      <td>-0.049145</td>\n",
       "      <td>-0.038176</td>\n",
       "      <td>-0.052040</td>\n",
       "      <td>-0.070778</td>\n",
       "      <td>-0.039908</td>\n",
       "      <td>-0.048411</td>\n",
       "      <td>-0.034735</td>\n",
       "      <td>-0.055913</td>\n",
       "      <td>-0.049844</td>\n",
       "      <td>1.000000</td>\n",
       "      <td>0.054993</td>\n",
       "      <td>-0.003473</td>\n",
       "      <td>0.000085</td>\n",
       "    </tr>\n",
       "    <tr>\n",
       "      <th>Credit_History_Age</th>\n",
       "      <td>-0.005988</td>\n",
       "      <td>0.211021</td>\n",
       "      <td>0.220930</td>\n",
       "      <td>0.241836</td>\n",
       "      <td>-0.434820</td>\n",
       "      <td>-0.373831</td>\n",
       "      <td>-0.505162</td>\n",
       "      <td>-0.536274</td>\n",
       "      <td>-0.437551</td>\n",
       "      <td>-0.414391</td>\n",
       "      <td>-0.384982</td>\n",
       "      <td>-0.541915</td>\n",
       "      <td>-0.546707</td>\n",
       "      <td>0.054993</td>\n",
       "      <td>1.000000</td>\n",
       "      <td>0.014652</td>\n",
       "      <td>-0.000479</td>\n",
       "    </tr>\n",
       "    <tr>\n",
       "      <th>Amount_invested_monthly</th>\n",
       "      <td>0.000505</td>\n",
       "      <td>0.002623</td>\n",
       "      <td>0.025391</td>\n",
       "      <td>0.028376</td>\n",
       "      <td>-0.013199</td>\n",
       "      <td>-0.007585</td>\n",
       "      <td>-0.015713</td>\n",
       "      <td>-0.009590</td>\n",
       "      <td>-0.008768</td>\n",
       "      <td>-0.017011</td>\n",
       "      <td>-0.009468</td>\n",
       "      <td>-0.013682</td>\n",
       "      <td>-0.009694</td>\n",
       "      <td>-0.003473</td>\n",
       "      <td>0.014652</td>\n",
       "      <td>1.000000</td>\n",
       "      <td>0.005676</td>\n",
       "    </tr>\n",
       "    <tr>\n",
       "      <th>Monthly_Balance</th>\n",
       "      <td>-0.003589</td>\n",
       "      <td>0.002658</td>\n",
       "      <td>-0.003375</td>\n",
       "      <td>0.002562</td>\n",
       "      <td>0.000452</td>\n",
       "      <td>-0.002531</td>\n",
       "      <td>0.000439</td>\n",
       "      <td>-0.004368</td>\n",
       "      <td>-0.003315</td>\n",
       "      <td>0.000530</td>\n",
       "      <td>0.003426</td>\n",
       "      <td>0.003060</td>\n",
       "      <td>-0.002765</td>\n",
       "      <td>0.000085</td>\n",
       "      <td>-0.000479</td>\n",
       "      <td>0.005676</td>\n",
       "      <td>1.000000</td>\n",
       "    </tr>\n",
       "  </tbody>\n",
       "</table>\n",
       "</div>"
      ],
      "text/plain": [
       "                                id       Age  Annual_Income  \\\n",
       "id                        1.000000  0.003928      -0.006904   \n",
       "Age                       0.003928  1.000000       0.076864   \n",
       "Annual_Income            -0.006904  0.076864       1.000000   \n",
       "Monthly_Inhand_Salary    -0.003047  0.081069       0.797872   \n",
       "Num_Bank_Accounts         0.003438 -0.171239      -0.228116   \n",
       "Num_Credit_Card          -0.003064 -0.131825      -0.175864   \n",
       "Interest_Rate             0.004888 -0.188201      -0.238290   \n",
       "Num_of_Loan              -0.007490 -0.188940      -0.203708   \n",
       "Delay_from_due_date      -0.005405 -0.155521      -0.199158   \n",
       "Num_of_Delayed_Payment    0.002836 -0.159038      -0.222368   \n",
       "Changed_Credit_Limit      0.008075 -0.141264      -0.141100   \n",
       "Num_Credit_Inquiries     -0.002166 -0.221927      -0.223483   \n",
       "Outstanding_Debt          0.003925 -0.176598      -0.209089   \n",
       "Credit_Utilization_Ratio -0.008959  0.013245       0.115625   \n",
       "Credit_History_Age       -0.005988  0.211021       0.220930   \n",
       "Amount_invested_monthly   0.000505  0.002623       0.025391   \n",
       "Monthly_Balance          -0.003589  0.002658      -0.003375   \n",
       "\n",
       "                          Monthly_Inhand_Salary  Num_Bank_Accounts  \\\n",
       "id                                    -0.003047           0.003438   \n",
       "Age                                    0.081069          -0.171239   \n",
       "Annual_Income                          0.797872          -0.228116   \n",
       "Monthly_Inhand_Salary                  1.000000          -0.251379   \n",
       "Num_Bank_Accounts                     -0.251379           1.000000   \n",
       "Num_Credit_Card                       -0.192278           0.396606   \n",
       "Interest_Rate                         -0.261682           0.509492   \n",
       "Num_of_Loan                           -0.224970           0.416166   \n",
       "Delay_from_due_date                   -0.220592           0.499245   \n",
       "Num_of_Delayed_Payment                -0.242914           0.520985   \n",
       "Changed_Credit_Limit                  -0.155790           0.296989   \n",
       "Num_Credit_Inquiries                  -0.246659           0.457542   \n",
       "Outstanding_Debt                      -0.233517           0.440399   \n",
       "Credit_Utilization_Ratio               0.125318          -0.049145   \n",
       "Credit_History_Age                     0.241836          -0.434820   \n",
       "Amount_invested_monthly                0.028376          -0.013199   \n",
       "Monthly_Balance                        0.002562           0.000452   \n",
       "\n",
       "                          Num_Credit_Card  Interest_Rate  Num_of_Loan  \\\n",
       "id                              -0.003064       0.004888    -0.007490   \n",
       "Age                             -0.131825      -0.188201    -0.188940   \n",
       "Annual_Income                   -0.175864      -0.238290    -0.203708   \n",
       "Monthly_Inhand_Salary           -0.192278      -0.261682    -0.224970   \n",
       "Num_Bank_Accounts                0.396606       0.509492     0.416166   \n",
       "Num_Credit_Card                  1.000000       0.434278     0.368011   \n",
       "Interest_Rate                    0.434278       1.000000     0.481802   \n",
       "Num_of_Loan                      0.368011       0.481802     1.000000   \n",
       "Delay_from_due_date              0.427296       0.515039     0.440589   \n",
       "Num_of_Delayed_Payment           0.366229       0.479998     0.401980   \n",
       "Changed_Credit_Limit             0.227202       0.322939     0.329039   \n",
       "Num_Credit_Inquiries             0.407610       0.546554     0.493544   \n",
       "Outstanding_Debt                 0.426837       0.531683     0.547098   \n",
       "Credit_Utilization_Ratio        -0.038176      -0.052040    -0.070778   \n",
       "Credit_History_Age              -0.373831      -0.505162    -0.536274   \n",
       "Amount_invested_monthly         -0.007585      -0.015713    -0.009590   \n",
       "Monthly_Balance                 -0.002531       0.000439    -0.004368   \n",
       "\n",
       "                          Delay_from_due_date  Num_of_Delayed_Payment  \\\n",
       "id                                  -0.005405                0.002836   \n",
       "Age                                 -0.155521               -0.159038   \n",
       "Annual_Income                       -0.199158               -0.222368   \n",
       "Monthly_Inhand_Salary               -0.220592               -0.242914   \n",
       "Num_Bank_Accounts                    0.499245                0.520985   \n",
       "Num_Credit_Card                      0.427296                0.366229   \n",
       "Interest_Rate                        0.515039                0.479998   \n",
       "Num_of_Loan                          0.440589                0.401980   \n",
       "Delay_from_due_date                  1.000000                0.462616   \n",
       "Num_of_Delayed_Payment               0.462616                1.000000   \n",
       "Changed_Credit_Limit                 0.263995                0.281492   \n",
       "Num_Credit_Inquiries                 0.477262                0.427285   \n",
       "Outstanding_Debt                     0.495868                0.421136   \n",
       "Credit_Utilization_Ratio            -0.039908               -0.048411   \n",
       "Credit_History_Age                  -0.437551               -0.414391   \n",
       "Amount_invested_monthly             -0.008768               -0.017011   \n",
       "Monthly_Balance                     -0.003315                0.000530   \n",
       "\n",
       "                          Changed_Credit_Limit  Num_Credit_Inquiries  \\\n",
       "id                                    0.008075             -0.002166   \n",
       "Age                                  -0.141264             -0.221927   \n",
       "Annual_Income                        -0.141100             -0.223483   \n",
       "Monthly_Inhand_Salary                -0.155790             -0.246659   \n",
       "Num_Bank_Accounts                     0.296989              0.457542   \n",
       "Num_Credit_Card                       0.227202              0.407610   \n",
       "Interest_Rate                         0.322939              0.546554   \n",
       "Num_of_Loan                           0.329039              0.493544   \n",
       "Delay_from_due_date                   0.263995              0.477262   \n",
       "Num_of_Delayed_Payment                0.281492              0.427285   \n",
       "Changed_Credit_Limit                  1.000000              0.339233   \n",
       "Num_Credit_Inquiries                  0.339233              1.000000   \n",
       "Outstanding_Debt                      0.401693              0.515861   \n",
       "Credit_Utilization_Ratio             -0.034735             -0.055913   \n",
       "Credit_History_Age                   -0.384982             -0.541915   \n",
       "Amount_invested_monthly              -0.009468             -0.013682   \n",
       "Monthly_Balance                       0.003426              0.003060   \n",
       "\n",
       "                          Outstanding_Debt  Credit_Utilization_Ratio  \\\n",
       "id                                0.003925                 -0.008959   \n",
       "Age                              -0.176598                  0.013245   \n",
       "Annual_Income                    -0.209089                  0.115625   \n",
       "Monthly_Inhand_Salary            -0.233517                  0.125318   \n",
       "Num_Bank_Accounts                 0.440399                 -0.049145   \n",
       "Num_Credit_Card                   0.426837                 -0.038176   \n",
       "Interest_Rate                     0.531683                 -0.052040   \n",
       "Num_of_Loan                       0.547098                 -0.070778   \n",
       "Delay_from_due_date               0.495868                 -0.039908   \n",
       "Num_of_Delayed_Payment            0.421136                 -0.048411   \n",
       "Changed_Credit_Limit              0.401693                 -0.034735   \n",
       "Num_Credit_Inquiries              0.515861                 -0.055913   \n",
       "Outstanding_Debt                  1.000000                 -0.049844   \n",
       "Credit_Utilization_Ratio         -0.049844                  1.000000   \n",
       "Credit_History_Age               -0.546707                  0.054993   \n",
       "Amount_invested_monthly          -0.009694                 -0.003473   \n",
       "Monthly_Balance                  -0.002765                  0.000085   \n",
       "\n",
       "                          Credit_History_Age  Amount_invested_monthly  \\\n",
       "id                                 -0.005988                 0.000505   \n",
       "Age                                 0.211021                 0.002623   \n",
       "Annual_Income                       0.220930                 0.025391   \n",
       "Monthly_Inhand_Salary               0.241836                 0.028376   \n",
       "Num_Bank_Accounts                  -0.434820                -0.013199   \n",
       "Num_Credit_Card                    -0.373831                -0.007585   \n",
       "Interest_Rate                      -0.505162                -0.015713   \n",
       "Num_of_Loan                        -0.536274                -0.009590   \n",
       "Delay_from_due_date                -0.437551                -0.008768   \n",
       "Num_of_Delayed_Payment             -0.414391                -0.017011   \n",
       "Changed_Credit_Limit               -0.384982                -0.009468   \n",
       "Num_Credit_Inquiries               -0.541915                -0.013682   \n",
       "Outstanding_Debt                   -0.546707                -0.009694   \n",
       "Credit_Utilization_Ratio            0.054993                -0.003473   \n",
       "Credit_History_Age                  1.000000                 0.014652   \n",
       "Amount_invested_monthly             0.014652                 1.000000   \n",
       "Monthly_Balance                    -0.000479                 0.005676   \n",
       "\n",
       "                          Monthly_Balance  \n",
       "id                              -0.003589  \n",
       "Age                              0.002658  \n",
       "Annual_Income                   -0.003375  \n",
       "Monthly_Inhand_Salary            0.002562  \n",
       "Num_Bank_Accounts                0.000452  \n",
       "Num_Credit_Card                 -0.002531  \n",
       "Interest_Rate                    0.000439  \n",
       "Num_of_Loan                     -0.004368  \n",
       "Delay_from_due_date             -0.003315  \n",
       "Num_of_Delayed_Payment           0.000530  \n",
       "Changed_Credit_Limit             0.003426  \n",
       "Num_Credit_Inquiries             0.003060  \n",
       "Outstanding_Debt                -0.002765  \n",
       "Credit_Utilization_Ratio         0.000085  \n",
       "Credit_History_Age              -0.000479  \n",
       "Amount_invested_monthly          0.005676  \n",
       "Monthly_Balance                  1.000000  "
      ]
     },
     "execution_count": 476,
     "metadata": {},
     "output_type": "execute_result"
    }
   ],
   "source": [
    "data_df.corr()"
   ]
  },
  {
   "cell_type": "markdown",
   "id": "11903084",
   "metadata": {},
   "source": [
    "We are interested in generating a plot for each numerical variable. Recall that the dataset consists of 17 numerical variables, but one of the latter is \"id\", which is not useful for any purpose. Hence, we get to 16 numerical variables of interest. The idea is to generate 16 subplots."
   ]
  },
  {
   "cell_type": "code",
   "execution_count": 477,
   "id": "27c00836",
   "metadata": {},
   "outputs": [
    {
     "data": {
      "image/png": "[encoded data removed]",
      "text/plain": [
       "<Figure size 2160x1440 with 15 Axes>"
      ]
     },
     "metadata": {
      "needs_background": "light"
     },
     "output_type": "display_data"
    }
   ],
   "source": [
    "fig, axes = plt.subplots(3,5, figsize=(30,20))\n",
    "\n",
    "sns.histplot(ax=axes[0, 0], data=data_df, x='Age', kde=True)\n",
    "sns.histplot(ax=axes[0, 1], data=data_df, x='Annual_Income', kde=True)\n",
    "sns.histplot(ax=axes[0, 2], data=data_df, x='Monthly_Inhand_Salary', kde=True)\n",
    "sns.histplot(ax=axes[0, 3], data=data_df, x='Num_Bank_Accounts', kde=True)\n",
    "sns.histplot(ax=axes[0, 4], data=data_df, x='Num_Credit_Card', kde=True)\n",
    "sns.histplot(ax=axes[1, 0], data=data_df, x='Interest_Rate', kde=True)\n",
    "sns.histplot(ax=axes[1, 1], data=data_df, x='Num_of_Loan', kde=True)\n",
    "sns.histplot(ax=axes[1, 2], data=data_df, x='Delay_from_due_date', kde=True)\n",
    "sns.histplot(ax=axes[1, 3], data=data_df, x='Num_of_Delayed_Payment', kde=True)\n",
    "sns.histplot(ax=axes[1, 4], data=data_df, x='Changed_Credit_Limit', kde=True)\n",
    "sns.histplot(ax=axes[2, 0], data=data_df, x='Num_Credit_Inquiries', kde=True)\n",
    "sns.histplot(ax=axes[2, 1], data=data_df, x='Outstanding_Debt', kde=True)\n",
    "sns.histplot(ax=axes[2, 2], data=data_df, x='Credit_Utilization_Ratio', kde=True)\n",
    "sns.histplot(ax=axes[2, 3], data=data_df, x='Credit_History_Age', kde=True)\n",
    "sns.histplot(ax=axes[2, 4], data=data_df, x='Amount_invested_monthly', kde=True)\n",
    "\n",
    "\n",
    "plt.tight_layout()"
   ]
  },
  {
   "attachments": {},
   "cell_type": "markdown",
   "id": "0c377e20",
   "metadata": {},
   "source": [
    "**Notice that it is not possible to plot the histogram for the last numerical variable, namely \"Monthly_Balance\", since the maximum allowed size would be exceeded.**"
   ]
  },
  {
   "cell_type": "markdown",
   "id": "dbfe0317",
   "metadata": {},
   "source": [
    "In order visualize the histogram of one variable only, pass its name as parameter of the following function."
   ]
  },
  {
   "cell_type": "code",
   "execution_count": 478,
   "id": "0b90cbc0",
   "metadata": {},
   "outputs": [],
   "source": [
    "def histogram(var_name):\n",
    "    plt.figure(figsize=(15,10))\n",
    "    sns.histplot(data=data_df, x=var_name, kde=True)\n",
    "#histogram('Age')"
   ]
  },
  {
   "attachments": {},
   "cell_type": "markdown",
   "id": "09cd52f0",
   "metadata": {},
   "source": [
    "## 2) Preprocessing data"
   ]
  },
  {
   "attachments": {},
   "cell_type": "markdown",
   "id": "23a640f9",
   "metadata": {},
   "source": [
    "Preprocessing phase is one of the most crucial ones when it comes to create machine learning models. It usually consists of the following stages:\n",
    "\n",
    "1. Handling missing values\n",
    "2. Inspecting for redundancy\n",
    "3. Column cleanup\n",
    "4. Removing outliers\n",
    "\n",
    "In particular, we have already covered point 1. in the previous sections, when dealing with exploratory data analysis. In particular, we have replaced all the missing rows of each attribute with its mode. Furthermore we do not need to check for redundancy (point 2. of the list) since we know that each row corresponds to a different user, identified by a unique ID. Hence, we will focus on the remaining points of the aforementioned list."
   ]
  },
  {
   "attachments": {},
   "cell_type": "markdown",
   "id": "fd448fbd",
   "metadata": {},
   "source": [
    "### 2.3) Column cleanup\n",
    "In this section we are going to convert all the variables' names into lower cases."
   ]
  },
  {
   "cell_type": "code",
   "execution_count": 479,
   "id": "8573cfb0",
   "metadata": {},
   "outputs": [],
   "source": [
    "data_df.columns = [col.lower() for col in data_df]"
   ]
  },
  {
   "attachments": {},
   "cell_type": "markdown",
   "id": "fc9cd9e8",
   "metadata": {},
   "source": [
    "### 2.4) Removing outliers\n",
    "Recall that we define as \"outlier\" any observation - for a given variable - differing more than a certain small quantity with respect to the other observations of that variable. In simpler words, any data point far away from the distribution of data points is regarded as an outlier. In order to visualize such outliers for every numerical variables, we are going to create several boxplots. Then we will look at every boxplot and points not included in the quartiles will be outilers."
   ]
  },
  {
   "attachments": {},
   "cell_type": "markdown",
   "id": "314619c2",
   "metadata": {},
   "source": [
    "#### Creating the boxplots"
   ]
  },
  {
   "attachments": {},
   "cell_type": "markdown",
   "id": "efbad8d6",
   "metadata": {},
   "source": [
    "Notice that we are going to create boxplots for numerical variables only. In fact, we are not interested in looking for outliers of categorical variables for two reasons:\n",
    "- the concept of \"outlier\" for categorical data is hard to define\n",
    "- once we will do \"OneHotEncoding\", all categorical instances will be converted into 0s and 1s"
   ]
  },
  {
   "cell_type": "code",
   "execution_count": 480,
   "id": "2a4154f3",
   "metadata": {},
   "outputs": [
    {
     "data": {
      "image/png": "[encoded data removed]",
      "text/plain": [
       "<Figure size 2160x1440 with 15 Axes>"
      ]
     },
     "metadata": {
      "needs_background": "light"
     },
     "output_type": "display_data"
    }
   ],
   "source": [
    "fig, axes = plt.subplots(3,5, figsize=(30,20))\n",
    "\n",
    "sns.boxplot(ax=axes[0, 0], x=data_df[\"age\"])\n",
    "sns.boxplot(ax=axes[0, 1], x=data_df[\"annual_income\"])\n",
    "sns.boxplot(ax=axes[0, 2], x=data_df[\"num_bank_accounts\"])\n",
    "sns.boxplot(ax=axes[0, 3], x=data_df[\"num_credit_card\"])\n",
    "sns.boxplot(ax=axes[0, 4], x=data_df[\"interest_rate\"])\n",
    "sns.boxplot(ax=axes[1, 0], x=data_df[\"num_of_loan\"])\n",
    "sns.boxplot(ax=axes[1, 1], x=data_df[\"delay_from_due_date\"])\n",
    "sns.boxplot(ax=axes[1, 2], x=data_df[\"num_of_delayed_payment\"])\n",
    "sns.boxplot(ax=axes[1, 3], x=data_df[\"changed_credit_limit\"])\n",
    "sns.boxplot(ax=axes[1, 4], x=data_df[\"num_credit_inquiries\"])\n",
    "sns.boxplot(ax=axes[2, 0], x=data_df[\"outstanding_debt\"])\n",
    "sns.boxplot(ax=axes[2, 1], x=data_df[\"credit_utilization_ratio\"])\n",
    "sns.boxplot(ax=axes[2, 2], x=data_df[\"credit_history_age\"])\n",
    "sns.boxplot(ax=axes[2, 3], x=data_df[\"amount_invested_monthly\"])\n",
    "sns.boxplot(ax=axes[2, 4], x=data_df[\"monthly_balance\"])\n",
    "\n",
    "plt.tight_layout()"
   ]
  },
  {
   "attachments": {},
   "cell_type": "markdown",
   "id": "d73e3bf2",
   "metadata": {},
   "source": [
    "As you may notice, not all the variables have outliers. Here are the only ones collecting them:\n",
    "- num_bank_accounts\n",
    "- delay_from_due_date\n",
    "- changed_credit_limit\n",
    "- num_credit_inquiries\n",
    "- outstanding_debt\n",
    "- amount_invested_monthly\n",
    "- monthly_balance\n",
    "\n",
    "Hence, we will focus on such variables only when looking for outliers."
   ]
  },
  {
   "attachments": {},
   "cell_type": "markdown",
   "id": "12dabc56",
   "metadata": {},
   "source": [
    "#### 2-steps approach to remove outliers\n",
    "To remove the outliers from multiple columns we are going to adopt a 2-steps approach:\n",
    "\n",
    "- We create a function named \"outliers\" which returns a list of indexes of outliers\n",
    "- We are going to use the indexes of such outliers and remove them from the original dataset"
   ]
  },
  {
   "cell_type": "code",
   "execution_count": 481,
   "id": "7b740d2a",
   "metadata": {},
   "outputs": [],
   "source": [
    "def outliers(df, ft):\n",
    "    Q1 = df[ft].quantile(0.25) #first quantile\n",
    "    Q3 = df[ft].quantile(0.75) #second quantile\n",
    "    IQR = Q3 - Q1 #interquantile range\n",
    "\n",
    "    lower_bound = Q1 - 1.5*IQR\n",
    "    upper_bound = Q3 + 1.5*IQR\n",
    "\n",
    "    ls = df.index[ (df[ft] < lower_bound) | (df[ft] > upper_bound)] # stores the indexes of the outliers, hence all values either < lower bound\n",
    "                                                                    # or > upper bound\n",
    "    return ls"
   ]
  },
  {
   "attachments": {},
   "cell_type": "markdown",
   "id": "20bcf96d",
   "metadata": {},
   "source": [
    "We now create an empty list to store the output indexes from multiple columns."
   ]
  },
  {
   "cell_type": "code",
   "execution_count": 482,
   "id": "f31989c1",
   "metadata": {},
   "outputs": [],
   "source": [
    "index_list = []\n",
    "\n",
    "#extract outliers from all the columns\n",
    "columns = ['num_bank_accounts', 'delay_from_due_date', 'changed_credit_limit', 'num_credit_inquiries', 'outstanding_debt', 'amount_invested_monthly', 'monthly_balance']\n",
    "for column in columns:\n",
    "    index_list.extend(outliers(data_df, column))\n",
    "\n",
    "#to visualize such list:\n",
    "#index_list"
   ]
  },
  {
   "attachments": {},
   "cell_type": "markdown",
   "id": "ac862361",
   "metadata": {},
   "source": [
    "We now define a function called \"remove\" which returns a cleaned dataframe without outliers."
   ]
  },
  {
   "cell_type": "code",
   "execution_count": 483,
   "id": "6ecd4f6c",
   "metadata": {},
   "outputs": [],
   "source": [
    "def remove(df, ls):\n",
    "\n",
    "    #process the list of indexes, since it may be not sorted or not unique\n",
    "    ls = sorted(set(ls))\n",
    "\n",
    "    df = df.drop(ls) # dropping rows containing outliers\n",
    "\n",
    "    return df"
   ]
  },
  {
   "cell_type": "code",
   "execution_count": 484,
   "id": "29f686df",
   "metadata": {},
   "outputs": [
    {
     "name": "stdout",
     "output_type": "stream",
     "text": [
      "(100000, 23)\n",
      "(59884, 23)\n"
     ]
    }
   ],
   "source": [
    "# calling the function to remove the outliers\n",
    "data_df_cleaned = remove(data_df, index_list)\n",
    "\n",
    "#checking the shape of the new dataframe\n",
    "print(data_df.shape)\n",
    "print(data_df_cleaned.shape)"
   ]
  },
  {
   "cell_type": "markdown",
   "id": "f77a02ea",
   "metadata": {
    "collapsed": false
   },
   "source": [
    "## 3) Generating training set and test set\n",
    "After an analysis of how each variable may influence on the final prediction, we noticed that not all the variables were useflu for the final aim. In particular, we decided not to use the following variables:\n",
    "- id (index 0): it is just a sequence of distinct integers identifying customers, hence useless.\n",
    "- monthly_inhand_salary (index 4): in our opinion it is a kind of reduncdancy, since the variable \"Annual_Income\" extends the same information of \"Monthly_Inhand_Salary\", but takes into account even the bonuses.\n",
    "Before splitting the dataset into training and test set, it is necessary to separate the independent variables from the dependent one (the one that we aim to predict)."
   ]
  },
  {
   "attachments": {},
   "cell_type": "markdown",
   "id": "f2c0d9ad",
   "metadata": {},
   "source": [
    "**IMPORTANT:**\n",
    "Before generating the training set and test set, we encode categorical data into integers. \n",
    "\n",
    "To achieve such aim, we will first apply \"LabelEncoder\" on categorical data, thus to encode them into integers. Then, we will apply \"standardScaler\" to numerical data and \"OneHotEncoder\" to initial categorical data."
   ]
  },
  {
   "cell_type": "code",
   "execution_count": 485,
   "id": "7d7966a6",
   "metadata": {},
   "outputs": [
    {
     "name": "stdout",
     "output_type": "stream",
     "text": [
      "<class 'pandas.core.frame.DataFrame'>\n",
      "Int64Index: 59884 entries, 0 to 99998\n",
      "Data columns (total 23 columns):\n",
      " #   Column                    Non-Null Count  Dtype  \n",
      "---  ------                    --------------  -----  \n",
      " 0   id                        59884 non-null  int64  \n",
      " 1   age                       59884 non-null  float64\n",
      " 2   occupation                59884 non-null  object \n",
      " 3   annual_income             59884 non-null  float64\n",
      " 4   monthly_inhand_salary     59884 non-null  float64\n",
      " 5   num_bank_accounts         59884 non-null  float64\n",
      " 6   num_credit_card           59884 non-null  float64\n",
      " 7   interest_rate             59884 non-null  float64\n",
      " 8   num_of_loan               59884 non-null  float64\n",
      " 9   type_of_loan              59884 non-null  object \n",
      " 10  delay_from_due_date       59884 non-null  float64\n",
      " 11  num_of_delayed_payment    59884 non-null  float64\n",
      " 12  changed_credit_limit      59884 non-null  float64\n",
      " 13  num_credit_inquiries      59884 non-null  float64\n",
      " 14  credit_mix                59884 non-null  object \n",
      " 15  outstanding_debt          59884 non-null  float64\n",
      " 16  credit_utilization_ratio  59884 non-null  float64\n",
      " 17  credit_history_age        59884 non-null  float64\n",
      " 18  payment_of_min_amount     59884 non-null  object \n",
      " 19  amount_invested_monthly   59884 non-null  float64\n",
      " 20  payment_behaviour         59884 non-null  object \n",
      " 21  monthly_balance           59884 non-null  float64\n",
      " 22  credit_score              59884 non-null  object \n",
      "dtypes: float64(16), int64(1), object(6)\n",
      "memory usage: 11.0+ MB\n"
     ]
    }
   ],
   "source": [
    "data_df_cleaned.info()"
   ]
  },
  {
   "attachments": {},
   "cell_type": "markdown",
   "id": "fc064183",
   "metadata": {},
   "source": [
    "### 3.1) LabelEncoder"
   ]
  },
  {
   "cell_type": "code",
   "execution_count": 486,
   "id": "06e65259",
   "metadata": {},
   "outputs": [],
   "source": [
    "from sklearn.preprocessing import LabelEncoder\n",
    "data_df_cleaned['occupation'] = LabelEncoder().fit_transform(data_df_cleaned['occupation'])\n",
    "data_df_cleaned['type_of_loan'] = LabelEncoder().fit_transform(data_df_cleaned['type_of_loan'])\n",
    "data_df_cleaned['credit_mix'] = LabelEncoder().fit_transform(data_df_cleaned['credit_mix'])\n",
    "data_df_cleaned['payment_behaviour'] = LabelEncoder().fit_transform(data_df_cleaned['payment_behaviour'])\n",
    "data_df_cleaned['payment_of_min_amount'] = LabelEncoder().fit_transform(data_df_cleaned['payment_of_min_amount'])"
   ]
  },
  {
   "cell_type": "code",
   "execution_count": 487,
   "id": "879788b2",
   "metadata": {},
   "outputs": [
    {
     "name": "stdout",
     "output_type": "stream",
     "text": [
      "<class 'pandas.core.frame.DataFrame'>\n",
      "Int64Index: 59884 entries, 0 to 99998\n",
      "Data columns (total 23 columns):\n",
      " #   Column                    Non-Null Count  Dtype  \n",
      "---  ------                    --------------  -----  \n",
      " 0   id                        59884 non-null  int64  \n",
      " 1   age                       59884 non-null  float64\n",
      " 2   occupation                59884 non-null  int32  \n",
      " 3   annual_income             59884 non-null  float64\n",
      " 4   monthly_inhand_salary     59884 non-null  float64\n",
      " 5   num_bank_accounts         59884 non-null  float64\n",
      " 6   num_credit_card           59884 non-null  float64\n",
      " 7   interest_rate             59884 non-null  float64\n",
      " 8   num_of_loan               59884 non-null  float64\n",
      " 9   type_of_loan              59884 non-null  int32  \n",
      " 10  delay_from_due_date       59884 non-null  float64\n",
      " 11  num_of_delayed_payment    59884 non-null  float64\n",
      " 12  changed_credit_limit      59884 non-null  float64\n",
      " 13  num_credit_inquiries      59884 non-null  float64\n",
      " 14  credit_mix                59884 non-null  int32  \n",
      " 15  outstanding_debt          59884 non-null  float64\n",
      " 16  credit_utilization_ratio  59884 non-null  float64\n",
      " 17  credit_history_age        59884 non-null  float64\n",
      " 18  payment_of_min_amount     59884 non-null  int32  \n",
      " 19  amount_invested_monthly   59884 non-null  float64\n",
      " 20  payment_behaviour         59884 non-null  int32  \n",
      " 21  monthly_balance           59884 non-null  float64\n",
      " 22  credit_score              59884 non-null  object \n",
      "dtypes: float64(16), int32(5), int64(1), object(1)\n",
      "memory usage: 9.8+ MB\n"
     ]
    }
   ],
   "source": [
    "data_df_cleaned.info()"
   ]
  },
  {
   "attachments": {},
   "cell_type": "markdown",
   "id": "1dfbf671",
   "metadata": {},
   "source": [
    "### 3.2) StandardScaler and OneHotEncoder"
   ]
  },
  {
   "cell_type": "code",
   "execution_count": 488,
   "id": "2668ee76",
   "metadata": {},
   "outputs": [],
   "source": [
    "from sklearn.compose import ColumnTransformer\n",
    "from sklearn.preprocessing import StandardScaler, OneHotEncoder\n",
    "\n",
    "pipeline=ColumnTransformer([\n",
    "    ('num',StandardScaler(),[1,3,4,5,6,7,8,10,11,12,13,15,16,17,19,21]), # Encoding numerical variables\n",
    "    ('cat',OneHotEncoder(handle_unknown='ignore'),[2,9,14,18,20]), # Encoding categorical variables\n",
    "])\n",
    "\n",
    "# Now that the pipeline is set and ready we can use it to transform our data"
   ]
  },
  {
   "attachments": {},
   "cell_type": "markdown",
   "id": "631576e9",
   "metadata": {},
   "source": [
    "### 3.3) Splitting the dataset"
   ]
  },
  {
   "cell_type": "code",
   "execution_count": 489,
   "id": "f70abc15",
   "metadata": {
    "collapsed": false
   },
   "outputs": [
    {
     "name": "stdout",
     "output_type": "stream",
     "text": [
      "X_train shape: (44913, 21)\n",
      "X_test shape: (14971, 21)\n"
     ]
    }
   ],
   "source": [
    "X = data_df_cleaned.iloc[:, [1,2,3,4,5,6,7,8,9,10,11,12,13,14,15,16,17,18,19,20,21]].values #independent variables\n",
    "y = data_df_cleaned.iloc[:, 22].values #dependent variables\n",
    "\n",
    "from sklearn.model_selection import train_test_split\n",
    "X_train, X_test, y_train, y_test = train_test_split(X, y, test_size = 0.25, random_state = 0)\n",
    "\n",
    "print(\"X_train shape:\", X_train.shape)\n",
    "print(\"X_test shape:\", X_test.shape)"
   ]
  },
  {
   "cell_type": "markdown",
   "id": "7ad53465",
   "metadata": {
    "collapsed": false
   },
   "source": [
    "We have generated a training set containing 75% of the observations, while a test set containing the remaining 25%."
   ]
  },
  {
   "attachments": {},
   "cell_type": "markdown",
   "id": "7a449850",
   "metadata": {},
   "source": [
    "### 3.4) Fit and Transform\n",
    "\n",
    "We will finally apply \"fit_transform\" on the training set, and simply \"transform\" on the test set.\n",
    "\n",
    "**Recall that we never do \"fit_transform\" on the test set!**\n"
   ]
  },
  {
   "cell_type": "code",
   "execution_count": 490,
   "id": "eb0077c7",
   "metadata": {},
   "outputs": [],
   "source": [
    "X_train = pipeline.fit_transform(X_train)\n",
    "X_test = pipeline.transform(X_test)"
   ]
  },
  {
   "attachments": {},
   "cell_type": "markdown",
   "id": "f7f6b1dc",
   "metadata": {},
   "source": [
    "## 4) Testing Classifiers\n",
    " In this section we are going to build and test several models. Here are the ones we have selected for our analysis:\n",
    " 1. K-Nearest Neighbours (KNN)\n",
    " 2. Kernel Support Vector Machine (Kernel SVM)\n",
    " 3. XGBOOST\n",
    " 4. Classification and Regression Tree (CART)\n",
    " 5. Artificial Neural Network (ANN)\n",
    "\n",
    " Noice that for each of the following cells, so for each of the following models, we will even compute the right metrics and the performances on the test set. Hence, point 5 and point 6 of the task are all included in this one."
   ]
  },
  {
   "attachments": {},
   "cell_type": "markdown",
   "id": "20a1088b",
   "metadata": {},
   "source": [
    "### 4.0) Importing libraries"
   ]
  },
  {
   "cell_type": "code",
   "execution_count": 491,
   "id": "bb72bcb4",
   "metadata": {},
   "outputs": [
    {
     "data": {
      "text/plain": [
       "' \\nimport sys\\n!{sys.executable} -m pip install xgboost\\n'"
      ]
     },
     "execution_count": 491,
     "metadata": {},
     "output_type": "execute_result"
    }
   ],
   "source": [
    "# Run this if the following error is thrown: ModuleNotFoundError: No module named 'xgboost'\n",
    "\n",
    "''' \n",
    "import sys\n",
    "!{sys.executable} -m pip install xgboost\n",
    "'''"
   ]
  },
  {
   "cell_type": "code",
   "execution_count": 492,
   "id": "305a3914",
   "metadata": {},
   "outputs": [],
   "source": [
    "from sklearn.svm import SVC \n",
    "from sklearn import neighbors\n",
    "from xgboost import XGBClassifier\n",
    "from sklearn.model_selection import GridSearchCV\n",
    "from sklearn.tree import DecisionTreeClassifier\n",
    "from sklearn.metrics import classification_report\n",
    "from sklearn.neural_network import MLPClassifier\n",
    "from sklearn.metrics import ConfusionMatrixDisplay, accuracy_score, recall_score\n",
    "import time "
   ]
  },
  {
   "attachments": {},
   "cell_type": "markdown",
   "id": "f0f4df52",
   "metadata": {},
   "source": [
    "### 4.1) KNN "
   ]
  },
  {
   "cell_type": "code",
   "execution_count": 493,
   "id": "142d3502",
   "metadata": {
    "pycharm": {
     "is_executing": true
    }
   },
   "outputs": [
    {
     "data": {
      "text/plain": [
       "\"\\nstart_time = time.time() # We start counting the time at this point\\n\\n# The grid search provided by GridSearchCV exhaustively generates candidates from a grid of parameter values specified with the param_grid parameter\\nparam_grid = {'n_neighbors': [3,5,8,10], 'weights':['uniform', 'distance'], 'metric': ['manhattan', 'euclidean', 'cosine']}\\nKNN = neighbors.KNeighborsClassifier()\\nclf_KNN = GridSearchCV(KNN, param_grid, cv=10, scoring='accuracy', return_train_score=False, verbose=1) # cv=10 allows us to make 10-fold cross validation\\nclf_KNN.fit(X_train,y_train)\\n\\n# Fitting the model\\nclf_KNN.fit(X_train, y_train)\\n\\n# To obtain the best parameters\\nclf_KNN_best_params = clf_KNN.best_params_\\nprint(clf_KNN.best_params_)\\n\\n# To obtain the best trained classifier\\ny_pred_KNN = clf_KNN.best_estimator_.predict(X_test)\\nprint(classification_report(y_test, y_pred_KNN))\\n\\nend_time = time.time() # We stop counting the time at this point\\ntime_KNN = end_time - start_time # Total time needed\\nprint(time_KNN)\\n\""
      ]
     },
     "execution_count": 493,
     "metadata": {},
     "output_type": "execute_result"
    }
   ],
   "source": [
    "'''\n",
    "start_time = time.time() # We start counting the time at this point\n",
    "\n",
    "# The grid search provided by GridSearchCV exhaustively generates candidates from a grid of parameter values specified with the param_grid parameter\n",
    "param_grid = {'n_neighbors': [3,5,8,10], 'weights':['uniform', 'distance'], 'metric': ['manhattan', 'euclidean', 'cosine']}\n",
    "KNN = neighbors.KNeighborsClassifier()\n",
    "clf_KNN = GridSearchCV(KNN, param_grid, cv=10, scoring='accuracy', return_train_score=False, verbose=1) # cv=10 allows us to make 10-fold cross validation\n",
    "clf_KNN.fit(X_train,y_train)\n",
    "\n",
    "# Fitting the model\n",
    "clf_KNN.fit(X_train, y_train)\n",
    "\n",
    "# To obtain the best parameters\n",
    "clf_KNN_best_params = clf_KNN.best_params_\n",
    "print(clf_KNN.best_params_)\n",
    "\n",
    "# To obtain the best trained classifier\n",
    "y_pred_KNN = clf_KNN.best_estimator_.predict(X_test)\n",
    "print(classification_report(y_test, y_pred_KNN))\n",
    "\n",
    "end_time = time.time() # We stop counting the time at this point\n",
    "time_KNN = end_time - start_time # Total time needed\n",
    "print(time_KNN)\n",
    "'''"
   ]
  },
  {
   "attachments": {},
   "cell_type": "markdown",
   "id": "ba0164c9",
   "metadata": {},
   "source": [
    "### 4.2) Kernel SVM"
   ]
  },
  {
   "cell_type": "code",
   "execution_count": 494,
   "id": "98e6eef4",
   "metadata": {},
   "outputs": [
    {
     "data": {
      "text/plain": [
       "\"\\nstart_time = time.time() # We start counting the time at this point\\n\\n# The grid search provided by GridSearchCV exhaustively generates candidates from a grid of parameter values specified with the param_grid parameter\\nparam_grid = {'kernel':('linear', 'rbf', 'poly', 'sigmoid'), 'C':[0.3, 1, 2, 3], 'max_iter':[1500]}\\nSVM = SVC()\\nclf_SVM = GridSearchCV(SVM, param_grid, cv=10, scoring='accuracy', return_train_score=False, verbose=1) # cv=10 allows us to make 10-fold cross validation\\n\\n# Fitting the model\\nclf_SVM.fit(X_train,y_train)\\n\\n# To obtain the best parameters\\nclf_SVM_best_params = clf_SVM.best_params_\\nprint(clf_SVM.best_params_)\\n\\n# To obtain the best trained classifier\\ny_pred_SVM = clf_SVM.best_estimator_.predict(X_test)\\nprint(classification_report(y_test, y_pred_SVM))\\n\\nend_time = time.time() # We stop counting the time at this point\\ntime_SVM = end_time - start_time # Total time needed\\nprint(time_SVM)\\n\""
      ]
     },
     "execution_count": 494,
     "metadata": {},
     "output_type": "execute_result"
    }
   ],
   "source": [
    "'''\n",
    "start_time = time.time() # We start counting the time at this point\n",
    "\n",
    "# The grid search provided by GridSearchCV exhaustively generates candidates from a grid of parameter values specified with the param_grid parameter\n",
    "param_grid = {'kernel':('linear', 'rbf', 'poly', 'sigmoid'), 'C':[0.3, 1, 2, 3], 'max_iter':[1500]}\n",
    "SVM = SVC()\n",
    "clf_SVM = GridSearchCV(SVM, param_grid, cv=10, scoring='accuracy', return_train_score=False, verbose=1) # cv=10 allows us to make 10-fold cross validation\n",
    "\n",
    "# Fitting the model\n",
    "clf_SVM.fit(X_train,y_train)\n",
    "\n",
    "# To obtain the best parameters\n",
    "clf_SVM_best_params = clf_SVM.best_params_\n",
    "print(clf_SVM.best_params_)\n",
    "\n",
    "# To obtain the best trained classifier\n",
    "y_pred_SVM = clf_SVM.best_estimator_.predict(X_test)\n",
    "print(classification_report(y_test, y_pred_SVM))\n",
    "\n",
    "end_time = time.time() # We stop counting the time at this point\n",
    "time_SVM = end_time - start_time # Total time needed\n",
    "print(time_SVM)\n",
    "'''"
   ]
  },
  {
   "attachments": {},
   "cell_type": "markdown",
   "id": "8532ab8c",
   "metadata": {},
   "source": [
    "### 4.3) XGBOOST"
   ]
  },
  {
   "cell_type": "code",
   "execution_count": 495,
   "id": "c5764343",
   "metadata": {},
   "outputs": [
    {
     "data": {
      "text/plain": [
       "\"\\nstart_time = time.time() # We start counting the time at this point\\n\\n# The grid search provided by GridSearchCV exhaustively generates candidates from a grid of parameter values specified with the param_grid parameter\\nparam_grid = {'max_depth':[5, 10, 15],\\n              #'lambda': np.random.uniform(1e-3,10,size).tolist(),\\n              #'alpha': np.random.uniform(1e-3,10,size).tolist(),\\n              #'colsample_bytree': np.random.uniform(0.3,1,size).tolist(),\\n              'learning_rate':[0.9, 0.5, 0.1, 0.001] #loguniform distribution\\n              #'min_child_weight':np.random.randint(1,300,size).tolist()\\n              }\\nXGB = XGBClassifier()\\nclf_XGB = GridSearchCV(XGB, param_grid, cv=10, scoring='accuracy', return_train_score=False, verbose=1)\\n\\n# Fitting the model\\nclf_XGB.fit(X_train,y_train)\\n\\n# To obtain the best parameters\\nclf_XGB_best_params = clf_XGB.best_params_\\nprint(clf_XGB.best_params_)\\n\\n# To obtain the best trained classifier\\ny_pred_XGB = clf_XGB.best_estimator_.predict(X_test)\\nprint(classification_report(y_test, y_pred_XGB))\\n\\nend_time = time.time() # We stop counting the time at this point\\ntime_XGB = end_time - start_time # Total time needed\\nprint(time_XGB)\\n\""
      ]
     },
     "execution_count": 495,
     "metadata": {},
     "output_type": "execute_result"
    }
   ],
   "source": [
    "'''\n",
    "start_time = time.time() # We start counting the time at this point\n",
    "\n",
    "# The grid search provided by GridSearchCV exhaustively generates candidates from a grid of parameter values specified with the param_grid parameter\n",
    "param_grid = {'max_depth':[5, 10, 15],\n",
    "              #'lambda': np.random.uniform(1e-3,10,size).tolist(),\n",
    "              #'alpha': np.random.uniform(1e-3,10,size).tolist(),\n",
    "              #'colsample_bytree': np.random.uniform(0.3,1,size).tolist(),\n",
    "              'learning_rate':[0.9, 0.5, 0.1, 0.001] #loguniform distribution\n",
    "              #'min_child_weight':np.random.randint(1,300,size).tolist()\n",
    "              }\n",
    "XGB = XGBClassifier()\n",
    "clf_XGB = GridSearchCV(XGB, param_grid, cv=10, scoring='accuracy', return_train_score=False, verbose=1)\n",
    "\n",
    "# Fitting the model\n",
    "clf_XGB.fit(X_train,y_train)\n",
    "\n",
    "# To obtain the best parameters\n",
    "clf_XGB_best_params = clf_XGB.best_params_\n",
    "print(clf_XGB.best_params_)\n",
    "\n",
    "# To obtain the best trained classifier\n",
    "y_pred_XGB = clf_XGB.best_estimator_.predict(X_test)\n",
    "print(classification_report(y_test, y_pred_XGB))\n",
    "\n",
    "end_time = time.time() # We stop counting the time at this point\n",
    "time_XGB = end_time - start_time # Total time needed\n",
    "print(time_XGB)\n",
    "'''"
   ]
  },
  {
   "attachments": {},
   "cell_type": "markdown",
   "id": "6025d5c3",
   "metadata": {},
   "source": [
    "### 4.4) CART"
   ]
  },
  {
   "cell_type": "code",
   "execution_count": 496,
   "id": "834a042c",
   "metadata": {},
   "outputs": [
    {
     "name": "stdout",
     "output_type": "stream",
     "text": [
      "Fitting 10 folds for each of 36 candidates, totalling 360 fits\n",
      "{'max_depth': 5, 'max_features': 0.8, 'min_samples_leaf': 0.04}\n",
      "              precision    recall  f1-score   support\n",
      "\n",
      "        Good       0.56      0.58      0.57      2716\n",
      "        Poor       0.62      0.74      0.68      3946\n",
      "    Standard       0.78      0.70      0.74      8309\n",
      "\n",
      "    accuracy                           0.69     14971\n",
      "   macro avg       0.66      0.68      0.66     14971\n",
      "weighted avg       0.70      0.69      0.69     14971\n",
      "\n",
      "48.54292130470276\n"
     ]
    }
   ],
   "source": [
    "start_time = time.time() # We start counting the time at this point\n",
    "\n",
    "# The grid search provided by GridSearchCV exhaustively generates candidates from a grid of parameter values specified with the param_grid parameter\n",
    "param_grid = {\n",
    "            'max_depth': [3, 5, 10],\n",
    "            'min_samples_leaf': [0.04, 0.06, 0.08],\n",
    "            'max_features': [0.2, 0.4,0.6, 0.8]\n",
    "              }\n",
    "DT = DecisionTreeClassifier()\n",
    "clf_DT = GridSearchCV(DT, param_grid, cv=10, scoring='accuracy', return_train_score=False, verbose=1)\n",
    "\n",
    "# Fitting the model\n",
    "clf_DT.fit(X_train,y_train)\n",
    "\n",
    "# To obtain the best parameters\n",
    "clf_DT_best_params = clf_DT.best_params_\n",
    "print(clf_DT.best_params_)\n",
    "\n",
    "# To obtain the best trained classifier\n",
    "y_pred_DT = clf_DT.best_estimator_.predict(X_test)\n",
    "print(classification_report(y_test, y_pred_DT))\n",
    "\n",
    "end_time = time.time() # We stop counting the time at this point\n",
    "time_DT = end_time - start_time # Total time needed\n",
    "print(time_DT)"
   ]
  },
  {
   "attachments": {},
   "cell_type": "markdown",
   "id": "fdf1cd7d",
   "metadata": {},
   "source": [
    "### 4.5) ANN"
   ]
  },
  {
   "cell_type": "code",
   "execution_count": 497,
   "id": "234e42ce",
   "metadata": {},
   "outputs": [
    {
     "name": "stdout",
     "output_type": "stream",
     "text": [
      "Fitting 10 folds for each of 8 candidates, totalling 80 fits\n",
      "{'activation': 'logistic', 'learning_rate_init': 0.001}\n",
      "              precision    recall  f1-score   support\n",
      "\n",
      "        Good       0.00      0.00      0.00      2716\n",
      "        Poor       0.00      0.00      0.00      3946\n",
      "    Standard       0.56      1.00      0.71      8309\n",
      "\n",
      "    accuracy                           0.56     14971\n",
      "   macro avg       0.19      0.33      0.24     14971\n",
      "weighted avg       0.31      0.56      0.40     14971\n",
      "\n",
      "285.6092879772186\n"
     ]
    },
    {
     "name": "stderr",
     "output_type": "stream",
     "text": [
      "c:\\Users\\cardi\\anaconda3\\lib\\site-packages\\sklearn\\metrics\\_classification.py:1245: UndefinedMetricWarning: Precision and F-score are ill-defined and being set to 0.0 in labels with no predicted samples. Use `zero_division` parameter to control this behavior.\n",
      "  _warn_prf(average, modifier, msg_start, len(result))\n",
      "c:\\Users\\cardi\\anaconda3\\lib\\site-packages\\sklearn\\metrics\\_classification.py:1245: UndefinedMetricWarning: Precision and F-score are ill-defined and being set to 0.0 in labels with no predicted samples. Use `zero_division` parameter to control this behavior.\n",
      "  _warn_prf(average, modifier, msg_start, len(result))\n",
      "c:\\Users\\cardi\\anaconda3\\lib\\site-packages\\sklearn\\metrics\\_classification.py:1245: UndefinedMetricWarning: Precision and F-score are ill-defined and being set to 0.0 in labels with no predicted samples. Use `zero_division` parameter to control this behavior.\n",
      "  _warn_prf(average, modifier, msg_start, len(result))\n"
     ]
    }
   ],
   "source": [
    "start_time = time.time() # We start counting the time at this point\n",
    "\n",
    "# The grid search provided by GridSearchCV exhaustively generates candidates from a grid of parameter values specified with the param_grid parameter\n",
    "param_grid = {'activation':['logistic', 'relu'], 'learning_rate_init':(0.5, 0.2, 0.01, 0.001)}\n",
    "ANN = MLPClassifier( \n",
    "    hidden_layer_sizes=(9,5,3)    \n",
    "    )\n",
    "clf_ANN= GridSearchCV(ANN, param_grid, cv=10, scoring='accuracy', return_train_score=False, verbose=1)\n",
    "\n",
    "# Fitting the model\n",
    "clf_ANN.fit(X_train,y_train)\n",
    "\n",
    "# To obtain the best parameters\n",
    "clf_ANN_best_params = clf_ANN.best_params_\n",
    "print(clf_ANN.best_params_)\n",
    "\n",
    "# To obtain the best trained classifier\n",
    "y_pred_ANN = clf_ANN.best_estimator_.predict(X_test)\n",
    "print(classification_report(y_test, y_pred_ANN))\n",
    "\n",
    "end_time = time.time() # We stop counting the time at this point\n",
    "time_ANN = end_time - start_time # Total time needed\n",
    "print(time_ANN)"
   ]
  },
  {
   "attachments": {},
   "cell_type": "markdown",
   "id": "f1c6f7f1",
   "metadata": {},
   "source": [
    "## 5) Graphical visualization: Confusion Matrix"
   ]
  },
  {
   "attachments": {},
   "cell_type": "markdown",
   "id": "9c104ebe",
   "metadata": {},
   "source": [
    "### 5.1) Confusion Matrix for KNN"
   ]
  },
  {
   "cell_type": "code",
   "execution_count": 498,
   "id": "3d563eb0",
   "metadata": {},
   "outputs": [
    {
     "data": {
      "text/plain": [
       "'\\ncm_KNN = ConfusionMatrixDisplay.from_predictions(y_test, y_pred_KNN)\\n'"
      ]
     },
     "execution_count": 498,
     "metadata": {},
     "output_type": "execute_result"
    }
   ],
   "source": [
    "'''\n",
    "cm_KNN = ConfusionMatrixDisplay.from_predictions(y_test, y_pred_KNN)\n",
    "'''"
   ]
  },
  {
   "attachments": {},
   "cell_type": "markdown",
   "id": "919079b7",
   "metadata": {},
   "source": [
    "### 5.2) Confusion Matrix for Kernel SVM"
   ]
  },
  {
   "cell_type": "code",
   "execution_count": 499,
   "id": "b2ea3407",
   "metadata": {},
   "outputs": [
    {
     "data": {
      "text/plain": [
       "'\\ncm_SVM = ConfusionMatrixDisplay.from_predictions(y_test, y_pred_SVM)\\n'"
      ]
     },
     "execution_count": 499,
     "metadata": {},
     "output_type": "execute_result"
    }
   ],
   "source": [
    "'''\n",
    "cm_SVM = ConfusionMatrixDisplay.from_predictions(y_test, y_pred_SVM)\n",
    "'''"
   ]
  },
  {
   "attachments": {},
   "cell_type": "markdown",
   "id": "20beb15a",
   "metadata": {},
   "source": [
    "### 5.3) Confusion Matrix for XGBOOST"
   ]
  },
  {
   "cell_type": "code",
   "execution_count": 500,
   "id": "0bcae8db",
   "metadata": {},
   "outputs": [
    {
     "data": {
      "text/plain": [
       "'\\ncm_XGB = ConfusionMatrixDisplay.from_predictions(y_test, y_pred_XGB)\\n'"
      ]
     },
     "execution_count": 500,
     "metadata": {},
     "output_type": "execute_result"
    }
   ],
   "source": [
    "'''\n",
    "cm_XGB = ConfusionMatrixDisplay.from_predictions(y_test, y_pred_XGB)\n",
    "'''"
   ]
  },
  {
   "attachments": {},
   "cell_type": "markdown",
   "id": "7e5d2372",
   "metadata": {},
   "source": [
    "### 5.4) Confusion Matrix for CART"
   ]
  },
  {
   "cell_type": "code",
   "execution_count": 501,
   "id": "1ca4c65f",
   "metadata": {},
   "outputs": [
    {
     "ename": "AttributeError",
     "evalue": "type object 'ConfusionMatrixDisplay' has no attribute 'from_predictions'",
     "output_type": "error",
     "traceback": [
      "\u001b[1;31m---------------------------------------------------------------------------\u001b[0m",
      "\u001b[1;31mAttributeError\u001b[0m                            Traceback (most recent call last)",
      "\u001b[1;32m<ipython-input-501-257fa42baa42>\u001b[0m in \u001b[0;36m<module>\u001b[1;34m\u001b[0m\n\u001b[1;32m----> 1\u001b[1;33m \u001b[0mcm_DT\u001b[0m \u001b[1;33m=\u001b[0m \u001b[0mConfusionMatrixDisplay\u001b[0m\u001b[1;33m.\u001b[0m\u001b[0mfrom_predictions\u001b[0m\u001b[1;33m(\u001b[0m\u001b[0my_test\u001b[0m\u001b[1;33m,\u001b[0m \u001b[0my_pred_DT\u001b[0m\u001b[1;33m)\u001b[0m\u001b[1;33m\u001b[0m\u001b[1;33m\u001b[0m\u001b[0m\n\u001b[0m",
      "\u001b[1;31mAttributeError\u001b[0m: type object 'ConfusionMatrixDisplay' has no attribute 'from_predictions'"
     ]
    }
   ],
   "source": [
    "cm_DT = ConfusionMatrixDisplay.from_predictions(y_test, y_pred_DT)"
   ]
  },
  {
   "attachments": {},
   "cell_type": "markdown",
   "id": "7e017c37",
   "metadata": {},
   "source": [
    "### 5.5) Confusion Matrix for ANN"
   ]
  },
  {
   "cell_type": "code",
   "execution_count": null,
   "id": "0ec05927",
   "metadata": {},
   "outputs": [],
   "source": [
    "cm_ANN = ConfusionMatrixDisplay.from_predictions(y_test, y_pred_ANN)"
   ]
  }
 ],
 "metadata": {
  "kernelspec": {
   "display_name": "base",
   "language": "python",
   "name": "python3"
  },
  "language_info": {
   "codemirror_mode": {
    "name": "ipython",
    "version": 3
   },
   "file_extension": ".py",
   "mimetype": "text/x-python",
   "name": "python",
   "nbconvert_exporter": "python",
   "pygments_lexer": "ipython3",
   "version": "3.8.8"
  },
  "vscode": {
   "interpreter": {
    "hash": "838d78f9902590ebbc6e639e04abfb96bc729e56bc9f22e2e206d37f396d7107"
   }
  }
 },
 "nbformat": 4,
 "nbformat_minor": 5
}
